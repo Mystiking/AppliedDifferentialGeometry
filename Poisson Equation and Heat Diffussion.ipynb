{
 "cells": [
  {
   "cell_type": "code",
   "execution_count": 1,
   "metadata": {},
   "outputs": [],
   "source": [
    "import jax.numpy as jnp\n",
    "import numpy as np\n",
    "import meshplot as mp\n",
    "from mesh_processing import precompute_mesh_attributes, compute_mesh_attributes, compute_laplacian_crane, compute_laplacian_sorkine"
   ]
  },
  {
   "cell_type": "code",
   "execution_count": 2,
   "metadata": {},
   "outputs": [
    {
     "name": "stderr",
     "output_type": "stream",
     "text": [
      "/home/max/anaconda3/lib/python3.7/site-packages/jax/lib/xla_bridge.py:130: UserWarning: No GPU/TPU found, falling back to CPU.\n",
      "  warnings.warn('No GPU/TPU found, falling back to CPU.')\n"
     ]
    },
    {
     "name": "stdout",
     "output_type": "stream",
     "text": [
      "Loading in mesh: 3.6495230197906494 s\n",
      "edge connectivity + lens: 0.24063444137573242 s\n",
      "vertex neighbourhood connectivity: 0.07940125465393066 s\n",
      "face neighbourhood connectivity: 0.0579371452331543 s\n",
      "normals + area: 0.0936582088470459 s\n",
      "dual points: 0.10742974281311035 s\n",
      "vertex - face adjacency: 0.5072052478790283 s\n",
      "dual edge computation: 12.426661252975464 s\n"
     ]
    },
    {
     "data": {
      "application/vnd.jupyter.widget-view+json": {
       "model_id": "66ba577c3d124d5cbd391eb6c781fa8e",
       "version_major": 2,
       "version_minor": 0
      },
      "text/plain": [
       "Renderer(camera=PerspectiveCamera(children=(DirectionalLight(color='white', intensity=0.6, position=(-0.016800…"
      ]
     },
     "metadata": {},
     "output_type": "display_data"
    }
   ],
   "source": [
    "DATA = './meshes/'\n",
    "meshfile = 'stanford_bunny_original.obj'\n",
    "#meshfile = 'suzanne.obj'\n",
    "\n",
    "V, F, NF, E, NV, N, A, VF, D, El, DEl, DE, DA = precompute_mesh_attributes(DATA, meshfile)\n",
    "\n",
    "d = mp.plot(np.array(V), np.array(F), return_plot=True, shading={'wireframe': True})"
   ]
  },
  {
   "cell_type": "code",
   "execution_count": 3,
   "metadata": {},
   "outputs": [],
   "source": [
    "L = compute_laplacian_crane(V, E, El, DEl)"
   ]
  },
  {
   "cell_type": "code",
   "execution_count": 4,
   "metadata": {},
   "outputs": [
    {
     "data": {
      "application/vnd.jupyter.widget-view+json": {
       "model_id": "1968f17985844a6cb1ec3a5408e048c1",
       "version_major": 2,
       "version_minor": 0
      },
      "text/plain": [
       "Renderer(camera=PerspectiveCamera(children=(DirectionalLight(color='white', intensity=0.6, position=(-0.016800…"
      ]
     },
     "metadata": {},
     "output_type": "display_data"
    },
    {
     "data": {
      "text/plain": [
       "<meshplot.Viewer.Viewer at 0x7f56103a25d0>"
      ]
     },
     "execution_count": 4,
     "metadata": {},
     "output_type": "execute_result"
    }
   ],
   "source": [
    "# Set boundary conditions:\n",
    "boundary_high = [vi for vi, v in enumerate(V) if v[1] > np.mean(V[:,1]) + np.mean(V[:, 1]) * 0.75]\n",
    "boundary_low = [vi for vi, v in enumerate(V) if v[0] > np.mean(V[:,0]) - np.mean(V[:, 0]) * 2.8]\n",
    "f = np.zeros(V.shape[0]); c = np.zeros((V.shape[0], 3))\n",
    "f[boundary_high] = -1.0\n",
    "f[boundary_low] = 1.0\n",
    "c[boundary_high] = [1.0, 0.0, 0.0]\n",
    "c[boundary_low] = [0.0, 0.0, 1.0]\n",
    "mp.plot(np.array(V), np.array(F), return_plot=True, c=c, shading={'wireframe': False})"
   ]
  },
  {
   "cell_type": "code",
   "execution_count": 5,
   "metadata": {},
   "outputs": [
    {
     "data": {
      "application/vnd.jupyter.widget-view+json": {
       "model_id": "359a76b7ef894b6094ac570f585b032e",
       "version_major": 2,
       "version_minor": 0
      },
      "text/plain": [
       "Renderer(camera=PerspectiveCamera(children=(DirectionalLight(color='white', intensity=0.6, position=(-0.016800…"
      ]
     },
     "metadata": {},
     "output_type": "display_data"
    },
    {
     "data": {
      "text/plain": [
       "<meshplot.Viewer.Viewer at 0x7f56103f8090>"
      ]
     },
     "execution_count": 5,
     "metadata": {},
     "output_type": "execute_result"
    }
   ],
   "source": [
    "c_high = np.array([1.0, 0.0, 0.0])\n",
    "c_low = np.array([0.0, 0.0, 1.0])\n",
    "\n",
    "h_c = (f - 1.0) / 2.\n",
    "l_c = (f + 1.0) / 2.\n",
    "c = h_c + l_c\n",
    "mp.plot(np.array(V), np.array(F), return_plot=True, c=c, shading={'wireframe': False})"
   ]
  },
  {
   "cell_type": "code",
   "execution_count": 6,
   "metadata": {},
   "outputs": [],
   "source": [
    "for vi in boundary_high:\n",
    "    L[vi, :] = 0\n",
    "    L[vi, vi] = 1\n",
    "for vi in boundary_low:\n",
    "    L[vi, :] = 0\n",
    "    L[vi, vi] = 1\n",
    "poisson = np.matmul(np.linalg.inv(L), f)"
   ]
  },
  {
   "cell_type": "code",
   "execution_count": 8,
   "metadata": {},
   "outputs": [
    {
     "data": {
      "application/vnd.jupyter.widget-view+json": {
       "model_id": "4fb9ec6117ea446d94f7e1e22002512d",
       "version_major": 2,
       "version_minor": 0
      },
      "text/plain": [
       "HBox(children=(Output(), Output()))"
      ]
     },
     "metadata": {},
     "output_type": "display_data"
    }
   ],
   "source": [
    "d = mp.subplot(np.array(V), np.array(F), c=c, shading={'wireframe': False}, s=[1, 2, 0])\n",
    "h_c = (poisson - 1.0) / 2.\n",
    "l_c = (poisson + 1.0) / 2.\n",
    "c = h_c + l_c\n",
    "\n",
    "mp.subplot(np.array(V), np.array(F), c=c, shading={'wireframe': False}, s=[1,2,1], data=d)"
   ]
  },
  {
   "cell_type": "code",
   "execution_count": 18,
   "metadata": {},
   "outputs": [],
   "source": [
    "L = compute_laplacian_crane(V, E, El, DEl)\n",
    "fu = np.zeros(V.shape[0])\n",
    "fv = np.zeros(V.shape[0])\n",
    "L[0, :] = 0\n",
    "L[1, :] = 0\n",
    "L[2, :] = 0\n",
    "L[0, 0] = 1\n",
    "L[1, 1] = 1\n",
    "L[2, 2] = 1\n",
    "fu[0] = 1.0\n",
    "fv[0] = 0.0\n",
    "fu[1] = 0.0\n",
    "fv[1] = 1.0\n",
    "fu[2] = 1.0\n",
    "fv[2] = 1.0\n",
    "\n",
    "u = np.matmul(np.linalg.inv(L), fu)\n",
    "v = np.matmul(np.linalg.inv(L), fv)\n",
    "z = np.zeros(V.shape[0])\n",
    "V_ = np.column_stack([u, v, z])\n"
   ]
  },
  {
   "cell_type": "code",
   "execution_count": 20,
   "metadata": {},
   "outputs": [
    {
     "data": {
      "application/vnd.jupyter.widget-view+json": {
       "model_id": "138bbde7a8584aaeb1ea99259694e7ee",
       "version_major": 2,
       "version_minor": 0
      },
      "text/plain": [
       "Renderer(camera=PerspectiveCamera(children=(DirectionalLight(color='white', intensity=0.6, position=(0.5, 0.5,…"
      ]
     },
     "metadata": {},
     "output_type": "display_data"
    },
    {
     "data": {
      "text/plain": [
       "<meshplot.Viewer.Viewer at 0x7f560036d650>"
      ]
     },
     "execution_count": 20,
     "metadata": {},
     "output_type": "execute_result"
    }
   ],
   "source": [
    "mp.plot(np.array(V_), np.array(F), shading={'wireframe': True})"
   ]
  }
 ],
 "metadata": {
  "kernelspec": {
   "display_name": "Python 3",
   "language": "python",
   "name": "python3"
  },
  "language_info": {
   "codemirror_mode": {
    "name": "ipython",
    "version": 3
   },
   "file_extension": ".py",
   "mimetype": "text/x-python",
   "name": "python",
   "nbconvert_exporter": "python",
   "pygments_lexer": "ipython3",
   "version": "3.7.6"
  }
 },
 "nbformat": 4,
 "nbformat_minor": 4
}
