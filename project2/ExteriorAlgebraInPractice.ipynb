{
 "cells": [
  {
   "cell_type": "code",
   "execution_count": 129,
   "metadata": {},
   "outputs": [],
   "source": [
    "import jax\n",
    "import numpy as onp\n",
    "import jax.numpy as jnp"
   ]
  },
  {
   "cell_type": "code",
   "execution_count": 136,
   "metadata": {},
   "outputs": [],
   "source": [
    "class nvector:\n",
    "    def __init__(self, x):\n",
    "        self.x = x\n",
    "    \n",
    "    def __str__(self):\n",
    "        return str(f'{len(self.x)}-vector:\\n{onp.asarray(self.x)}')\n",
    "\n",
    "    def __len__(self):\n",
    "        '''Redefines builtin len() function to return n for an n-vector'''\n",
    "        return len(self.x)\n",
    "    \n",
    "    def __xor__(self, other):\n",
    "        '''This method redefines xor ^ operator to the wedge operator \n",
    "        for n-vectors'''\n",
    "        return nvector(self.x + other.x)\n",
    "    \n",
    "class nform:\n",
    "    def __init__(self, x):\n",
    "        self.x = x\n",
    "\n",
    "    def __str__(self):\n",
    "        return str(f'{len(self.x)}-form:\\n{onp.asarray(self.x)}')\n",
    "    \n",
    "    def __len__(self):\n",
    "        '''Redefines builtin len() function to return n for an n-form'''\n",
    "        return len(self.x)\n",
    "\n",
    "    def __xor__(self, other):\n",
    "        print()\n",
    "        '''This method redefines xor ^ operator to the wedge operator \n",
    "        for n-form'''\n",
    "        return nform(self.x + other.x)\n",
    "\n",
    "    def __call__(self, other):\n",
    "        '''Makes forms callable to implement the contraction operation α(u)'''\n",
    "        n, m = len(self.x), len(other.x)\n",
    "        if n != m:\n",
    "            raise NotImplementedError('Partial Contraction has not been implemented yet')\n",
    "        elif n in [1,2,3]:\n",
    "            C = jnp.array([[a.dot(u) for u in other.x] for a in self.x])\n",
    "            return jnp.linalg.det(C)\n",
    "        else:\n",
    "            raise ValueError('That type of contraction is invalid')\n",
    "    \n",
    "def hodge_star(a):\n",
    "    if not isinstance(a, nvector):\n",
    "        raise ValueError('# (sharp) operator only defined for nvectors')\n",
    "    elif len(a.x) == 0:\n",
    "        return vector(1,0,0) ^ vector(0,1,0) ^ vector(0,0,1)\n",
    "    elif len(a.x) == 1:\n",
    "        tmp = jnp.array([a.x[2], a.x[0], a.x[1]])\n",
    "        b = jnp.cross(a.x[0], tmp)\n",
    "        c = jnp.cross(tmp, b)/b.dot(b)\n",
    "        return nvector([b, c])\n",
    "    elif len(a.x) == 2:  \n",
    "        return nvector([jnp.cross(a.x[0], a.x[0])])\n",
    "    elif len(a.x) == 3:\n",
    "        return nvector([])\n",
    "def sharp(a):\n",
    "    if not isinstance(a, nvector):\n",
    "        raise ValueError('# (sharp) operator only defined for nvectors')\n",
    "    return nform(a.x)\n",
    "\n",
    "def flat(a):\n",
    "    if not isinstance(a, nform):\n",
    "        raise ValueError('# (sharp) operator only defined for nvectors')\n",
    "    return nvector(a.x)"
   ]
  },
  {
   "cell_type": "code",
   "execution_count": 137,
   "metadata": {},
   "outputs": [],
   "source": [
    "vector = lambda a, b, c: nvector([jnp.array([a, b, c])])\n",
    "form = lambda a, b, c: nform([jnp.array([a, b, c])])"
   ]
  },
  {
   "cell_type": "code",
   "execution_count": 138,
   "metadata": {},
   "outputs": [
    {
     "name": "stdout",
     "output_type": "stream",
     "text": [
      "\n",
      "\n",
      "1.0\n",
      "1.0\n",
      "2-vector:\n",
      "[[1 0 0]\n",
      " [0 1 0]]\n",
      "2-vector:\n",
      "[[0 1 0]\n",
      " [1 0 0]]\n"
     ]
    }
   ],
   "source": [
    "α = form(1,0,0)\n",
    "β = form(0,1,0)\n",
    "γ = form(0,0,1)\n",
    "u = vector(1,0,0)\n",
    "v = vector(0,1,0)\n",
    "w = vector(1,0,1)\n",
    "\n",
    "uvw = u^v^w\n",
    "αβγ = α^β^γ\n",
    "print(αβγ(uvw))\n",
    "\n",
    "vuw = v^u^w\n",
    "print(αβγ(uvw))\n",
    "\n",
    "print(u^v)\n",
    "print(v^u)"
   ]
  },
  {
   "cell_type": "code",
   "execution_count": null,
   "metadata": {},
   "outputs": [],
   "source": []
  },
  {
   "cell_type": "code",
   "execution_count": null,
   "metadata": {},
   "outputs": [],
   "source": []
  }
 ],
 "metadata": {
  "kernelspec": {
   "display_name": "Python 3",
   "language": "python",
   "name": "python3"
  },
  "language_info": {
   "codemirror_mode": {
    "name": "ipython",
    "version": 3
   },
   "file_extension": ".py",
   "mimetype": "text/x-python",
   "name": "python",
   "nbconvert_exporter": "python",
   "pygments_lexer": "ipython3",
   "version": "3.8.5"
  }
 },
 "nbformat": 4,
 "nbformat_minor": 4
}
