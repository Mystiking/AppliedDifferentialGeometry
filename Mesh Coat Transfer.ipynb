{
 "cells": [
  {
   "cell_type": "code",
   "execution_count": 1,
   "metadata": {},
   "outputs": [],
   "source": [
    "import jax.numpy as jnp\n",
    "import numpy as np\n",
    "import meshplot as mp\n",
    "from mesh_processing import precompute_mesh_attributes, compute_mesh_attributes, compute_laplacian_crane, compute_laplacian_sorkine, reconstruct\n",
    "from shapes import make_cuboid, spherify_cube, coolify_sphere"
   ]
  },
  {
   "cell_type": "code",
   "execution_count": 8,
   "metadata": {},
   "outputs": [
    {
     "data": {
      "application/vnd.jupyter.widget-view+json": {
       "model_id": "a0012efc32cf47a9bdd776c34a01d160",
       "version_major": 2,
       "version_minor": 0
      },
      "text/plain": [
       "HBox(children=(Output(), Output(), Output()))"
      ]
     },
     "metadata": {},
     "output_type": "display_data"
    },
    {
     "data": {
      "application/vnd.jupyter.widget-view+json": {
       "model_id": "b01653a5a77e47738ee7bd2a9c269983",
       "version_major": 2,
       "version_minor": 0
      },
      "text/plain": [
       "HBox(children=(Output(), Output(), Output()))"
      ]
     },
     "metadata": {},
     "output_type": "display_data"
    },
    {
     "data": {
      "text/plain": [
       "<meshplot.plot.Subplot at 0x7f73bc1357d0>"
      ]
     },
     "execution_count": 8,
     "metadata": {},
     "output_type": "execute_result"
    }
   ],
   "source": [
    "DATA = './meshes/'\n",
    "meshfile = 'cube_fine.obj'\n",
    "\n",
    "#Vc, Fc, NFc, Ec, NVc, Nc, Ac, VFc, Dc, Elc, DElc, DEc, DAc = precompute_mesh_attributes(DATA, meshfile)\n",
    "#Vs, Fs = spherify_cube(Vc, Fc, .5)\n",
    "#Vsc, Fsc = coolify_sphere(Vs, Fs, 75)\n",
    "\n",
    "d = mp.subplot(np.array(Vc), np.array(Fc), shading={'wireframe':True}, s=[1, 3, 0])\n",
    "d = mp.subplot(np.array(Vs), np.array(Fs), shading={'wireframe':True}, s=[1, 3, 1], data=d)\n",
    "mp.subplot(np.array(Vsc), np.array(Fsc), shading={'wireframe':True}, s=[1, 3, 2], data=d)"
   ]
  },
  {
   "cell_type": "code",
   "execution_count": 3,
   "metadata": {},
   "outputs": [],
   "source": [
    "NFs, Es, NVs, Ns, As, VFs, Ds, Els, DEls, DEs, DAs = compute_mesh_attributes(Vs, Fs)\n",
    "NFsc, Esc, NVsc, Nsc, Asc, VFsc, Dsc, Elsc, DElsc, DEsc, DAsc = compute_mesh_attributes(Vsc, Fsc)"
   ]
  },
  {
   "cell_type": "code",
   "execution_count": 4,
   "metadata": {},
   "outputs": [],
   "source": [
    "Lc = compute_laplacian_crane(Vc, Ec, Elc, DElc)\n",
    "Ls = compute_laplacian_crane(Vs, Es, Els, DEls)\n",
    "Lsc = compute_laplacian_crane(Vsc, Esc, Elsc, DElsc)"
   ]
  },
  {
   "cell_type": "code",
   "execution_count": 7,
   "metadata": {},
   "outputs": [
    {
     "data": {
      "application/vnd.jupyter.widget-view+json": {
       "model_id": "dc10e0309981491894831e14d795aa29",
       "version_major": 2,
       "version_minor": 0
      },
      "text/plain": [
       "Renderer(camera=PerspectiveCamera(children=(DirectionalLight(color='white', intensity=0.6, position=(316.16369…"
      ]
     },
     "metadata": {},
     "output_type": "display_data"
    },
    {
     "data": {
      "text/plain": [
       "<meshplot.Viewer.Viewer at 0x7f73981fd110>"
      ]
     },
     "execution_count": 7,
     "metadata": {},
     "output_type": "execute_result"
    }
   ],
   "source": [
    "delta_c = np.matmul(Lc, Vc)\n",
    "delta_s = np.matmul(Ls, Vs)\n",
    "delta_sc = np.matmul(Lsc, Vsc)\n",
    "\n",
    "xi = delta_sc - delta_s\n",
    "#S = reconstruct(Vs, Lsc, delta_sc - xi, m=100)\n",
    "#S = np.matmul(np.linalg.inv(Ls), delta_s + xi)\n",
    "\n",
    "U = np.matmul(np.linalg.inv(Lc), delta_c + xi)\n",
    "mp.plot(np.array(U), np.array(Fsc), shading={'wireframe':True})"
   ]
  },
  {
   "cell_type": "code",
   "execution_count": 6,
   "metadata": {},
   "outputs": [
    {
     "data": {
      "application/vnd.jupyter.widget-view+json": {
       "model_id": "bcbe9a59dc924c8e9d4ac246859d5b4b",
       "version_major": 2,
       "version_minor": 0
      },
      "text/plain": [
       "HBox(children=(Output(), Output(), Output()))"
      ]
     },
     "metadata": {},
     "output_type": "display_data"
    },
    {
     "data": {
      "application/vnd.jupyter.widget-view+json": {
       "model_id": "996070f921b94bc0806509bf91d72e34",
       "version_major": 2,
       "version_minor": 0
      },
      "text/plain": [
       "HBox(children=(Output(), Output(), Output()))"
      ]
     },
     "metadata": {},
     "output_type": "display_data"
    },
    {
     "data": {
      "text/plain": [
       "<meshplot.plot.Subplot at 0x7f73980c55d0>"
      ]
     },
     "execution_count": 6,
     "metadata": {},
     "output_type": "execute_result"
    }
   ],
   "source": [
    "S_c = reconstruct(Vc, Lc, delta_c)\n",
    "S_s = reconstruct(Vs, Ls, delta_s)\n",
    "S_sc = reconstruct(Vsc, Lsc, delta_sc)\n",
    "\n",
    "d = mp.subplot(np.array(S_c), np.array(Fc), shading={'wireframe':True}, s=[1, 3, 0])\n",
    "d = mp.subplot(np.array(S_s), np.array(Fs), shading={'wireframe':True}, s=[1, 3, 1], data=d)\n",
    "mp.subplot(np.array(S_sc), np.array(Fsc), shading={'wireframe':True}, s=[1, 3, 2], data=d)"
   ]
  }
 ],
 "metadata": {
  "kernelspec": {
   "display_name": "Python 3",
   "language": "python",
   "name": "python3"
  },
  "language_info": {
   "codemirror_mode": {
    "name": "ipython",
    "version": 3
   },
   "file_extension": ".py",
   "mimetype": "text/x-python",
   "name": "python",
   "nbconvert_exporter": "python",
   "pygments_lexer": "ipython3",
   "version": "3.7.6"
  }
 },
 "nbformat": 4,
 "nbformat_minor": 4
}
