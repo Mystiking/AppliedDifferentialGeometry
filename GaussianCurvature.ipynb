{
 "cells": [
  {
   "cell_type": "code",
   "execution_count": 1,
   "metadata": {},
   "outputs": [],
   "source": [
    "import jax.numpy as jnp"
   ]
  },
  {
   "cell_type": "code",
   "execution_count": 10,
   "metadata": {},
   "outputs": [
    {
     "name": "stdout",
     "output_type": "stream",
     "text": [
      "[[0 1 2]\n",
      " [1 0 3]\n",
      " [4 5 6]\n",
      " [5 4 7]\n",
      " [4 1 3]\n",
      " [1 4 6]\n",
      " [1 5 2]\n",
      " [5 1 6]\n",
      " [5 0 2]\n",
      " [0 5 7]\n",
      " [4 0 7]\n",
      " [0 4 3]]\n"
     ]
    }
   ],
   "source": [
    "DATA = 'meshes/'\n",
    "examplemesh = 'box.obj'\n",
    "\n",
    "def objloader(folder, fname):\n",
    "    V = []\n",
    "    F = []\n",
    "    with open(folder + fname, 'r') as f:\n",
    "        lines = f.readlines()\n",
    "        for l in lines:\n",
    "            token = l.split(' ')[0]\n",
    "            if token == 'v':\n",
    "                V.append(jnp.array([float(v) for v in l.split(' ')[1:]]))\n",
    "            if token == 'f':\n",
    "                F.append(jnp.array([int(f.split('/')[0]) - 1 for f in l.split(' ')[1:]]))\n",
    "    V = jnp.array(V)\n",
    "    F = jnp.array(F, dtype=jnp.int32)\n",
    "    return V, F\n",
    "\n",
    "def get_edge(V, e0, e1):\n",
    "    return V[e1] - V[e0]\n",
    "\n",
    "V, F = objloader(DATA, examplemesh)\n",
    "print(F)"
   ]
  },
  {
   "cell_type": "markdown",
   "metadata": {},
   "source": [
    "## Coding 10.1\n",
    "\n",
    "### Compute the uniformly weighted vertex normals given by\n",
    "\n",
    "$\n",
    "N_U = \\sum\\limits_i N_i\n",
    "$"
   ]
  },
  {
   "cell_type": "code",
   "execution_count": 18,
   "metadata": {},
   "outputs": [
    {
     "data": {
      "text/plain": [
       "DeviceArray([[-0.57735026,  0.57735026, -0.57735026],\n",
       "             [ 0.57735026,  0.57735026,  0.57735026],\n",
       "             [ 0.57735026,  0.57735026, -0.57735026],\n",
       "             [-0.57735026,  0.57735026,  0.57735026],\n",
       "             [-0.57735026, -0.57735026,  0.57735026],\n",
       "             [ 0.57735026, -0.57735026, -0.57735026],\n",
       "             [ 0.57735026, -0.57735026,  0.57735026],\n",
       "             [-0.57735026, -0.57735026, -0.57735026]], dtype=float32)"
      ]
     },
     "execution_count": 18,
     "metadata": {},
     "output_type": "execute_result"
    }
   ],
   "source": [
    "def normalize(v):\n",
    "    return v / jnp.linalg.norm(v)\n",
    "\n",
    "def compute_normal(e0, e1):\n",
    "    return normalize(jnp.cross(e0, e1))\n",
    "\n",
    "def compute_uniformly_weighted_normals(V, F):\n",
    "    Nu = []\n",
    "    for vi, v in enumerate(V):\n",
    "        # Get neighbouring faces\n",
    "        Nf = [fi for fi, f in enumerate(F) if vi in f]\n",
    "        # Compute normals\n",
    "        Nv = jnp.zeros(3)\n",
    "        for fi in Nf:\n",
    "            f = F[fi]\n",
    "            Nv += compute_normal(V[f[1]] - V[f[0]], V[f[2]] - V[f[0]])\n",
    "        Nu.append(normalize(Nv))\n",
    "    return jnp.array(Nu)\n",
    "        \n",
    "compute_uniformly_weighted_normals(V, F)"
   ]
  },
  {
   "cell_type": "markdown",
   "metadata": {},
   "source": [
    "## Coding 10.2\n",
    "\n",
    "### Compute the vertex normal using face area weights\n",
    "\n",
    "$\n",
    "N_\\nu = \\sum\\limits_i N_i\n",
    "$"
   ]
  },
  {
   "cell_type": "code",
   "execution_count": null,
   "metadata": {},
   "outputs": [],
   "source": []
  }
 ],
 "metadata": {
  "kernelspec": {
   "display_name": "Python 3",
   "language": "python",
   "name": "python3"
  },
  "language_info": {
   "codemirror_mode": {
    "name": "ipython",
    "version": 3
   },
   "file_extension": ".py",
   "mimetype": "text/x-python",
   "name": "python",
   "nbconvert_exporter": "python",
   "pygments_lexer": "ipython3",
   "version": "3.7.6"
  }
 },
 "nbformat": 4,
 "nbformat_minor": 4
}
