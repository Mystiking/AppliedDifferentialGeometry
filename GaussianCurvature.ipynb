{
 "cells": [
  {
   "cell_type": "code",
   "execution_count": 44,
   "metadata": {},
   "outputs": [],
   "source": [
    "import jax\n",
    "import jax.numpy as jnp\n",
    "from jax import grad, jacfwd"
   ]
  },
  {
   "cell_type": "code",
   "execution_count": 2,
   "metadata": {},
   "outputs": [
    {
     "name": "stdout",
     "output_type": "stream",
     "text": [
      "[DeviceArray([0, 1, 2], dtype=int32), DeviceArray([1, 0, 3], dtype=int32), DeviceArray([4, 5, 6], dtype=int32), DeviceArray([5, 4, 7], dtype=int32), DeviceArray([4, 1, 3], dtype=int32), DeviceArray([1, 4, 6], dtype=int32), DeviceArray([1, 5, 2], dtype=int32), DeviceArray([5, 1, 6], dtype=int32), DeviceArray([5, 0, 2], dtype=int32), DeviceArray([0, 5, 7], dtype=int32), DeviceArray([4, 0, 7], dtype=int32), DeviceArray([0, 4, 3], dtype=int32)]\n",
      "[[0 1 2]\n",
      " [1 0 3]\n",
      " [4 5 6]\n",
      " [5 4 7]\n",
      " [4 1 3]\n",
      " [1 4 6]\n",
      " [1 5 2]\n",
      " [5 1 6]\n",
      " [5 0 2]\n",
      " [0 5 7]\n",
      " [4 0 7]\n",
      " [0 4 3]]\n"
     ]
    },
    {
     "name": "stderr",
     "output_type": "stream",
     "text": [
      "/home/max/anaconda3/lib/python3.7/site-packages/jax/lib/xla_bridge.py:130: UserWarning: No GPU/TPU found, falling back to CPU.\n",
      "  warnings.warn('No GPU/TPU found, falling back to CPU.')\n"
     ]
    }
   ],
   "source": [
    "DATA = 'meshes/'\n",
    "examplemesh = 'box.obj'\n",
    "\n",
    "def objloader(folder, fname):\n",
    "    V = []\n",
    "    F = []\n",
    "    with open(folder + fname, 'r') as f:\n",
    "        lines = f.readlines()\n",
    "        for l in lines:\n",
    "            token = l.split(' ')[0]\n",
    "            if token == 'v':\n",
    "                V.append(jnp.array([float(v) for v in l.split(' ')[1:]]))\n",
    "            if token == 'f':\n",
    "                F.append(jnp.array([int(f.split('/')[0]) - 1 for f in l.split(' ')[1:]]))\n",
    "    print(F)\n",
    "    V = jnp.array(V)\n",
    "    F = jnp.array(F, dtype=jnp.int32)\n",
    "    \n",
    "    return V, F\n",
    "\n",
    "def get_edge(V, e0, e1):\n",
    "    return V[e1] - V[e0]\n",
    "\n",
    "def normalize(v):\n",
    "    return v / jnp.linalg.norm(v)\n",
    "\n",
    "def compute_normal_normalized(e0, e1):\n",
    "    return normalize(jnp.cross(e0, e1))\n",
    "\n",
    "def compute_normal(e0, e1):\n",
    "    return jnp.cross(e0, e1)\n",
    "\n",
    "V, F = objloader(DATA, examplemesh)\n",
    "print(F)"
   ]
  },
  {
   "cell_type": "markdown",
   "metadata": {},
   "source": [
    "## Coding 10.1\n",
    "\n",
    "### Compute the uniformly weighted vertex normals given by\n",
    "\n",
    "$\n",
    "N_U = \\sum\\limits_i N_i\n",
    "$"
   ]
  },
  {
   "cell_type": "code",
   "execution_count": 3,
   "metadata": {},
   "outputs": [
    {
     "data": {
      "text/plain": [
       "DeviceArray([[-0.57735026,  0.57735026, -0.57735026],\n",
       "             [ 0.57735026,  0.57735026,  0.57735026],\n",
       "             [ 0.57735026,  0.57735026, -0.57735026],\n",
       "             [-0.57735026,  0.57735026,  0.57735026],\n",
       "             [-0.57735026, -0.57735026,  0.57735026],\n",
       "             [ 0.57735026, -0.57735026, -0.57735026],\n",
       "             [ 0.57735026, -0.57735026,  0.57735026],\n",
       "             [-0.57735026, -0.57735026, -0.57735026]], dtype=float32)"
      ]
     },
     "execution_count": 3,
     "metadata": {},
     "output_type": "execute_result"
    }
   ],
   "source": [
    "def compute_uniformly_weighted_normals(V, F):\n",
    "    Nu = []\n",
    "    for vi, v in enumerate(V):\n",
    "        # Get neighbouring faces\n",
    "        Nf = [fi for fi, f in enumerate(F) if vi in f]\n",
    "        # Compute normals\n",
    "        Nv = jnp.zeros(3)\n",
    "        for fi in Nf:\n",
    "            f = F[fi]\n",
    "            Nv += compute_normal_normalized(V[f[1]] - V[f[0]], V[f[2]] - V[f[0]])\n",
    "        Nu.append(normalize(Nv))\n",
    "    return jnp.array(Nu)\n",
    "        \n",
    "compute_uniformly_weighted_normals(V, F)"
   ]
  },
  {
   "cell_type": "markdown",
   "metadata": {},
   "source": [
    "## Coding 10.2\n",
    "\n",
    "### Compute the vertex normal using face area weights\n",
    "\n",
    "$\n",
    "N_\\nu = \\sum\\limits_i N_i \\cdot \\frac{A_i}{\\sum\\limits_j A_j} = \\frac{1}{\\sum\\limits_j A_j}\\sum\\limits_i N_i \\cdot A_i\n",
    "$"
   ]
  },
  {
   "cell_type": "code",
   "execution_count": 4,
   "metadata": {},
   "outputs": [
    {
     "data": {
      "text/plain": [
       "DeviceArray([[-0.04987546,  0.9975093 , -0.04987546],\n",
       "             [ 0.04987546,  0.9975093 ,  0.04987546],\n",
       "             [ 0.04987546,  0.9975093 , -0.04987546],\n",
       "             [-0.04987546,  0.9975093 ,  0.04987546],\n",
       "             [-0.04987546, -0.9975093 ,  0.04987546],\n",
       "             [ 0.04987546, -0.9975093 , -0.04987546],\n",
       "             [ 0.04987546, -0.9975093 ,  0.04987546],\n",
       "             [-0.04987546, -0.9975093 , -0.04987546]], dtype=float32)"
      ]
     },
     "execution_count": 4,
     "metadata": {},
     "output_type": "execute_result"
    }
   ],
   "source": [
    "def compute_area_weighted_normals(V, F):\n",
    "    Nu = []\n",
    "    for vi, v in enumerate(V):\n",
    "        # Get neighbouring faces\n",
    "        Nf = [fi for fi, f in enumerate(F) if vi in f]\n",
    "        # Compute normals\n",
    "        Nv = jnp.zeros(3)\n",
    "        A = 0\n",
    "        for fi in Nf:\n",
    "            f = F[fi]\n",
    "            N = compute_normal(V[f[1]] - V[f[0]], V[f[2]] - V[f[0]])\n",
    "            Ai = jnp.linalg.norm(N) * 0.5\n",
    "            Nv += normalize(N) * Ai\n",
    "            A += Ai\n",
    "        Nv /= A\n",
    "        Nu.append(normalize(Nv))\n",
    "    return jnp.array(Nu)\n",
    "\n",
    "compute_area_weighted_normals(V, F)"
   ]
  },
  {
   "cell_type": "markdown",
   "metadata": {},
   "source": [
    "## Coding 10.3\n",
    "\n",
    "### Compute the vertex normal using tip angle\n",
    "\n",
    "$\n",
    "N_\\nu = \\sum\\limits_i \\theta_i N_i\n",
    "$"
   ]
  },
  {
   "cell_type": "code",
   "execution_count": 5,
   "metadata": {},
   "outputs": [
    {
     "data": {
      "text/plain": [
       "DeviceArray([[-0.57735026,  0.5773503 , -0.57735026],\n",
       "             [ 0.57735026,  0.5773503 ,  0.57735026],\n",
       "             [ 0.57735026,  0.57735026, -0.57735026],\n",
       "             [-0.57735026,  0.57735026,  0.57735026],\n",
       "             [-0.57735026, -0.5773503 ,  0.57735026],\n",
       "             [ 0.57735026, -0.5773503 , -0.57735026],\n",
       "             [ 0.57735026, -0.57735026,  0.57735026],\n",
       "             [-0.57735026, -0.57735026, -0.57735026]], dtype=float32)"
      ]
     },
     "execution_count": 5,
     "metadata": {},
     "output_type": "execute_result"
    }
   ],
   "source": [
    "def compute_tip_angle_weighted_normals(V, F):\n",
    "    Nu = []\n",
    "    for vi, v in enumerate(V):\n",
    "        # Get neighbouring faces\n",
    "        Nf = [fi for fi, f in enumerate(F) if vi in f]\n",
    "        # Compute normals\n",
    "        Nv = jnp.zeros(3)\n",
    "        for fi in Nf:\n",
    "            f = F[fi]\n",
    "            N = compute_normal(V[f[1]] - V[f[0]], V[f[2]] - V[f[0]])\n",
    "            # Figure out \"where\" the vertex is located\n",
    "            other_nodes = [fv for fv in f if fv != vi]\n",
    "            v0 = V[other_nodes[0]] - V[vi]\n",
    "            v1 = V[other_nodes[1]] - V[vi]\n",
    "            theta_i = jnp.arccos(jnp.dot(v0, v1) / (jnp.linalg.norm(v0) * jnp.linalg.norm(v1)))\n",
    "            Nv += normalize(N) * theta_i\n",
    "        Nu.append(normalize(Nv))\n",
    "    return jnp.array(Nu)\n",
    "\n",
    "compute_tip_angle_weighted_normals(V, F)"
   ]
  },
  {
   "cell_type": "markdown",
   "metadata": {},
   "source": [
    "## Coding 10.4\n",
    "\n",
    "### Compute the the mean curvature\n",
    "\n",
    "$\n",
    "\\Delta f = \\nabla_{p_i} A = \\frac{1}{2}\\sum\\limits_j (\\cot \\alpha_j +\\cot \\beta_j)(p_j - p_i) \n",
    "$"
   ]
  },
  {
   "cell_type": "code",
   "execution_count": 42,
   "metadata": {},
   "outputs": [],
   "source": [
    "def compute_mean_curvature(V, F):\n",
    "    nabla_P = []\n",
    "    for p_i, v in enumerate(V):\n",
    "        # Get neighbouring faces\n",
    "        Nf = [fi for fi, f in enumerate(F) if p_i in f]\n",
    "        # Get all other points\n",
    "        P_j = jnp.unique(jnp.array([[pj for pj in F[f] if pj != p_i] for f in Nf]).flatten())\n",
    "        # Compute normals\n",
    "        nabla_p = jnp.zeros(3)\n",
    "        for p_j in P_j:\n",
    "            # Assume all vertices in P_j are part of exactly two faces\n",
    "            f0, f1 = [f for f in Nf if p_j in F[f]]\n",
    "            p_k = [fi for fi in F[f0] if fi != p_j and fi != p_i][0]\n",
    "            p_m = [fi for fi in F[f1] if fi != p_j and fi != p_i][0]\n",
    "            \n",
    "            p_ki = V[p_i] - V[p_k]\n",
    "            p_kj = V[p_j] - V[p_k]\n",
    "            \n",
    "            p_mi = V[p_i] - V[p_m]\n",
    "            p_mj = V[p_j] - V[p_m]\n",
    "            \n",
    "            alpha = jnp.arccos(jnp.dot(p_ki, p_kj) / (jnp.linalg.norm(p_ki) * jnp.linalg.norm(p_kj)))\n",
    "            beta  = jnp.arccos(jnp.dot(p_mi, p_mj) / (jnp.linalg.norm(p_mi) * jnp.linalg.norm(p_mj)))\n",
    "            \n",
    "            nabla_p += (1./jnp.tan(alpha) + 1./jnp.tan(beta)) * (V[p_j] - V[p_i])\n",
    "            \n",
    "        nabla_p *= 0.5\n",
    "        nabla_P.append(nabla_p)\n",
    "    return jnp.array(nabla_P)\n",
    "\n",
    "\n",
    "def compute_mean_curvature_jax(V, F):\n",
    "    A = jnp.zeros(V.shape[0])\n",
    "    for vi, v in enumerate(V):\n",
    "        # Get neighbouring faces\n",
    "        Nf = [fi for fi, f in enumerate(F) if vi in f]\n",
    "        # Compute normals\n",
    "        for fi in Nf:\n",
    "            f = F[fi]\n",
    "            N = compute_normal(V[f[1]] - V[f[0]], V[f[2]] - V[f[0]])\n",
    "            A = jax.ops.index_add(A, vi, jnp.linalg.norm(N) * 0.5)\n",
    "    return A\n",
    "\n",
    "analytical = compute_mean_curvature(V, F)\n",
    "\n",
    "dcompute_mean_curvature_jax = jacfwd(compute_mean_curvature_jax)\n",
    "autodiff = dcompute_mean_curvature_jax(V, F)\n",
    "autodiff = jnp.array([autodiff[i, i, :] for i in range(V.shape[0])])"
   ]
  },
  {
   "cell_type": "code",
   "execution_count": 43,
   "metadata": {},
   "outputs": [
    {
     "name": "stdout",
     "output_type": "stream",
     "text": [
      "[[ 0.525      -1.0000067   0.525     ]\n",
      " [-0.525      -1.0000067  -0.525     ]\n",
      " [-0.5250001  -1.0000067   0.5250001 ]\n",
      " [ 0.5250001  -1.0000067  -0.5250001 ]\n",
      " [ 0.52500004  1.0000067  -0.52500004]\n",
      " [-0.52500004  1.0000067   0.52500004]\n",
      " [-0.5250001   1.0000067  -0.5250001 ]\n",
      " [ 0.5250001   1.0000067   0.5250001 ]]\n",
      "[[-0.525  1.    -0.525]\n",
      " [ 0.525  1.     0.525]\n",
      " [ 0.525  1.    -0.525]\n",
      " [-0.525  1.     0.525]\n",
      " [-0.525 -1.     0.525]\n",
      " [ 0.525 -1.    -0.525]\n",
      " [ 0.525 -1.     0.525]\n",
      " [-0.525 -1.    -0.525]]\n"
     ]
    }
   ],
   "source": [
    "print(analytical)\n",
    "print(autodiff)"
   ]
  }
 ],
 "metadata": {
  "kernelspec": {
   "display_name": "Python 3",
   "language": "python",
   "name": "python3"
  },
  "language_info": {
   "codemirror_mode": {
    "name": "ipython",
    "version": 3
   },
   "file_extension": ".py",
   "mimetype": "text/x-python",
   "name": "python",
   "nbconvert_exporter": "python",
   "pygments_lexer": "ipython3",
   "version": "3.7.6"
  }
 },
 "nbformat": 4,
 "nbformat_minor": 4
}
