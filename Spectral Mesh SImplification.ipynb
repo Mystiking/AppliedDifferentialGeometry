{
 "cells": [
  {
   "cell_type": "code",
   "execution_count": 1,
   "metadata": {},
   "outputs": [],
   "source": [
    "import jax.numpy as jnp\n",
    "import numpy as np\n",
    "import meshplot as mp\n",
    "from mesh_processing import precompute_mesh_attributes, compute_mesh_attributes, compute_laplacian_crane, compute_laplacian_sorkine"
   ]
  },
  {
   "cell_type": "code",
   "execution_count": 2,
   "metadata": {},
   "outputs": [
    {
     "name": "stderr",
     "output_type": "stream",
     "text": [
      "/home/max/anaconda3/lib/python3.7/site-packages/jax/lib/xla_bridge.py:130: UserWarning: No GPU/TPU found, falling back to CPU.\n",
      "  warnings.warn('No GPU/TPU found, falling back to CPU.')\n"
     ]
    },
    {
     "name": "stdout",
     "output_type": "stream",
     "text": [
      "Loading in mesh: 3.6899094581604004 s\n",
      "edge connectivity + lens: 0.24367070198059082 s\n",
      "vertex neighbourhood connectivity: 0.08789324760437012 s\n",
      "face neighbourhood connectivity: 0.07248115539550781 s\n",
      "normals + area: 0.11237931251525879 s\n",
      "dual points: 0.1267564296722412 s\n",
      "vertex - face adjacency: 0.5078504085540771 s\n",
      "dual edge computation: 14.640231370925903 s\n"
     ]
    },
    {
     "data": {
      "application/vnd.jupyter.widget-view+json": {
       "model_id": "f4a038f4d0724de3bcf32363632b2705",
       "version_major": 2,
       "version_minor": 0
      },
      "text/plain": [
       "Renderer(camera=PerspectiveCamera(children=(DirectionalLight(color='white', intensity=0.6, position=(-0.016800…"
      ]
     },
     "metadata": {},
     "output_type": "display_data"
    }
   ],
   "source": [
    "DATA = './meshes/'\n",
    "meshfile = 'stanford_bunny_original.obj'\n",
    "#meshfile = 'suzanne.obj'\n",
    "\n",
    "V, F, NF, E, NV, N, A, VF, D, El, DEl, DE, DA = precompute_mesh_attributes(DATA, meshfile)\n",
    "\n",
    "d = mp.plot(np.array(V), np.array(F), return_plot=True, shading={'wireframe': True})"
   ]
  },
  {
   "cell_type": "code",
   "execution_count": 3,
   "metadata": {},
   "outputs": [],
   "source": [
    "D = jnp.diag(jnp.sum(E, axis=1))\n",
    "L_s = D - E\n",
    "Lambda, U = np.linalg.eig(L_s)\n",
    "U = U[:, np.argsort(Lambda)]"
   ]
  },
  {
   "cell_type": "code",
   "execution_count": 4,
   "metadata": {},
   "outputs": [
    {
     "name": "stdout",
     "output_type": "stream",
     "text": [
      "(2503, 3)\n"
     ]
    },
    {
     "data": {
      "application/vnd.jupyter.widget-view+json": {
       "model_id": "c27c21a9975443659a27c10dd41e17a3",
       "version_major": 2,
       "version_minor": 0
      },
      "text/plain": [
       "HBox(children=(Output(), Output()))"
      ]
     },
     "metadata": {},
     "output_type": "display_data"
    }
   ],
   "source": [
    "num_eigen_vectors = 20\n",
    "print(V.shape)\n",
    "U_nev = U[:, :num_eigen_vectors]\n",
    "UT_nev = U_nev.T\n",
    "\n",
    "Vproj = jnp.matmul(jnp.matmul(U_nev, UT_nev), V)\n",
    "d = mp.subplot(np.array(V), np.array(F), c=np.array([1.0, 0.0, 0.0]),  s=[1, 2, 0])\n",
    "mp.subplot(np.array(Vproj), np.array(F), c=np.array([0.0, 0.0, 1.0]), s=[1, 2, 1], data=d)"
   ]
  }
 ],
 "metadata": {
  "kernelspec": {
   "display_name": "Python 3",
   "language": "python",
   "name": "python3"
  },
  "language_info": {
   "codemirror_mode": {
    "name": "ipython",
    "version": 3
   },
   "file_extension": ".py",
   "mimetype": "text/x-python",
   "name": "python",
   "nbconvert_exporter": "python",
   "pygments_lexer": "ipython3",
   "version": "3.7.6"
  }
 },
 "nbformat": 4,
 "nbformat_minor": 4
}
