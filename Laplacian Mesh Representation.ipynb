{
 "cells": [
  {
   "cell_type": "markdown",
   "metadata": {},
   "source": [
    "Laplacian Mesh Representation notebook\n",
    "========"
   ]
  },
  {
   "cell_type": "code",
   "execution_count": 1,
   "metadata": {},
   "outputs": [],
   "source": [
    "import jax.numpy as jnp\n",
    "from jax import jacfwd\n",
    "import numpy as np\n",
    "import meshplot as mp"
   ]
  },
  {
   "cell_type": "markdown",
   "metadata": {},
   "source": [
    "## Utility functions\n",
    "\n",
    "Firstly, we need to define some helper functions for\n",
    "1. Loading in a mesh (we will only work with the .obj format)\n",
    "2. Creating adjacency matrices\n",
    "3. Pre-computing areas and normals of triangles"
   ]
  },
  {
   "cell_type": "code",
   "execution_count": 2,
   "metadata": {},
   "outputs": [],
   "source": [
    "def objloader(folder, fname):\n",
    "    V = []\n",
    "    F = []\n",
    "    with open(folder + fname, 'r') as f:\n",
    "        lines = f.readlines()\n",
    "        for l in lines:\n",
    "            token = l.split(' ')[0]\n",
    "            if token == 'v':\n",
    "                V.append(jnp.array([float(v) for v in l.split(' ')[1:]]))\n",
    "            if token == 'f':\n",
    "                F.append(jnp.array([int(f.split('/')[0]) - 1 for f in l.split(' ')[1:]]))\n",
    "    V = jnp.array(V)\n",
    "    F = jnp.array(F, dtype=jnp.int32)\n",
    "    return V, F\n",
    "    \n",
    "def compute_vertex_neighbourhood_matrix(V, F):\n",
    "    N = np.zeros((V.shape[0], V.shape[0]), dtype=np.int)\n",
    "    for f in F:\n",
    "        N[f[0], [f[1], f[2]]] = 1\n",
    "        N[f[1], [f[0], f[2]]] = 1\n",
    "        N[f[2], [f[0], f[1]]] = 1\n",
    "    return jnp.array(N)\n",
    "\n",
    "def compute_face_neighbourhood_matrix(V, F, E):\n",
    "    N = np.zeros((V.shape[0], F.shape[0]), dtype=np.int)\n",
    "    for fi, f in enumerate(F):\n",
    "        N[f, fi] = 1\n",
    "    return jnp.array(N)\n",
    "\n",
    "def compute_edge_connectivity(V, F):\n",
    "    E = np.zeros((V.shape[0], V.shape[0]), dtype=np.int)\n",
    "    E[F[:, 0], F[:, 1]] = 1\n",
    "    E[F[:, 1], F[:, 2]] = 1\n",
    "    E[F[:, 2], F[:, 0]] = 1\n",
    "    # Length of edges\n",
    "    E_lens = np.zeros((V.shape[0], V.shape[0]))\n",
    "    E_lens[F[:, 0], F[:, 1]] = jnp.linalg.norm(V[F[:, 1]] - V[F[:, 0]], axis=1)\n",
    "    E_lens[F[:, 1], F[:, 2]] = jnp.linalg.norm(V[F[:, 2]] - V[F[:, 1]], axis=1)\n",
    "    E_lens[F[:, 2], F[:, 0]] = jnp.linalg.norm(V[F[:, 0]] - V[F[:, 2]], axis=1)\n",
    "    return jnp.array(E), jnp.array(E_lens)\n",
    "\n",
    "def compute_normals_and_areas(V, F):\n",
    "    Ns = jnp.cross(V[F[:, 1]] - V[F[:, 0]], V[F[:,2]] - V[F[:, 0]])\n",
    "    A = jnp.linalg.norm(Ns, axis=1) * 0.5\n",
    "    Ns = Ns / jnp.linalg.norm(Ns, axis=1).reshape(Ns.shape[0], 1)\n",
    "    return jnp.array(Ns), jnp.array(A)\n",
    "\n",
    "def compute_voronoi_cell_areas(V, F, NF):\n",
    "    VA = np.zeros((V.shape[0]))\n",
    "    for vi, v in enumerate(V):\n",
    "        for f in F[NF[vi] == 1]:\n",
    "            vs = V[f]\n",
    "            # Get mid-point\n",
    "            mid_point = jnp.mean(vs, axis=0)\n",
    "            # Get edge mid-points\n",
    "            vj, vk = [fi for fi in f if fi != vi]\n",
    "            meij = (V[vj] - v) / 2.\n",
    "            meik = (V[vk] - v) / 2.\n",
    "            meim = (mid_point - v)\n",
    "            # Compute the two triangle areas\n",
    "            VA[vi] += jnp.linalg.norm(jnp.cross(meij, meim))\n",
    "            VA[vi] += jnp.linalg.norm(jnp.cross(meik, meim))\n",
    "    return VA\n",
    "\n",
    "def compute_mesh_dual_points(V, F, E):\n",
    "    ac = V[F[:, 2]] - V[F[:, 0]]\n",
    "    ab = V[F[:, 1]] - V[F[:, 0]]\n",
    "    abXac = jnp.cross(ab, ac)\n",
    "    \n",
    "    aclen2 = jnp.linalg.norm(ac, axis=1)**2\n",
    "    ablen2 = jnp.linalg.norm(ab, axis=1)**2\n",
    "    abXaclen2 = jnp.linalg.norm(abXac, axis=1)**2\n",
    "    \n",
    "    centre = jnp.multiply(\n",
    "                (jnp.multiply(jnp.cross(abXac, ab).T, aclen2).T +\\\n",
    "                 jnp.multiply(jnp.cross(ac, abXac).T, ablen2).T).T,\n",
    "                1. / (2. * abXaclen2)).T\n",
    "    \n",
    "    return jnp.mean(V[F], axis=1)\n",
    "\n",
    "def compute_vertex_face_participation_matrix(V, F):\n",
    "    VF = np.zeros((V.shape[0], F.shape[0]), dtype=np.int)\n",
    "    for vi, _ in enumerate(V):\n",
    "        VF[vi, np.where(F == vi)[0]] = 1\n",
    "    return VF\n",
    "\n",
    "def compute_dual_edges(V, F, D, VF, E):\n",
    "    DE = np.zeros((E.shape[0], E.shape[1],3 ))\n",
    "    DEl = np.zeros((E.shape[0], E.shape[1]))\n",
    "    DA = np.zeros((V.shape[0]))\n",
    "    \n",
    "    Eindices = np.where(E == 1)\n",
    "    \n",
    "    E0 = Eindices[0] # \"From\" vertices\n",
    "    E1 = Eindices[1] # \"To\" vertices\n",
    "    \n",
    "    F_range = jnp.array([jnp.arange(F.shape[0])])\n",
    "    F_pairs = F_range[(VF[E0] & VF[E1]) == 1] # Get the face pairs sharing each edge\n",
    "    F_pairs = F_pairs.reshape((F_pairs.shape[0] // 2, 2))\n",
    "    \n",
    "    DE[E0, E1] = D[F_pairs[:, 1]] - D[F_pairs[:, 0]]\n",
    "    for i in range(DA.shape[0]):\n",
    "        DA[i] = 0.5 * jnp.sum(jnp.linalg.norm(jnp.cross(V[i, :] - (-1)*DE[i, np.where(E[i, :] == 1)], DE[i, np.where(E[i, :] == 1)]), axis=2))\n",
    "    DEl = jnp.linalg.norm(DE, axis=2)\n",
    "    return DEl, DE, DA\n",
    "\n",
    "def precompute_mesh_attributes(folder, fname):\n",
    "    import time\n",
    "    now = time.time()\n",
    "    V, F = objloader(folder, fname)\n",
    "    print(\"Loading in mesh:\", time.time() - now, \"s\")\n",
    "    now = time.time()\n",
    "    E, El = compute_edge_connectivity(V, F)\n",
    "    print(\"edge connectivity + lens:\", time.time() - now, \"s\")\n",
    "    now = time.time()\n",
    "    NV = compute_vertex_neighbourhood_matrix(V, F)\n",
    "    print(\"vertex neighbourhood connectivity:\", time.time() - now, \"s\")\n",
    "    now = time.time()\n",
    "    NF = compute_face_neighbourhood_matrix(V, F, E)\n",
    "    print(\"face neighbourhood connectivity:\", time.time() - now, \"s\")\n",
    "    now = time.time()\n",
    "    N, A = compute_normals_and_areas(V, F)\n",
    "    print(\"normals + area:\", time.time() - now, \"s\")\n",
    "    now = time.time()\n",
    "    D = compute_mesh_dual_points(V, F, E)\n",
    "    print(\"dual points:\", time.time() - now, \"s\")\n",
    "    now = time.time()\n",
    "    VF = compute_vertex_face_participation_matrix(V, F)\n",
    "    print(\"vertex - face adjacency:\", time.time() - now, \"s\")\n",
    "    now = time.time()\n",
    "    DEl, DE, DA = compute_dual_edges(V, F, D, VF, E)\n",
    "    print(\"dual edge computation:\", time.time() - now, \"s\")\n",
    "    return V, F, NF, E, NV, N, A, VF, D, El, DEl, DE, DA"
   ]
  },
  {
   "cell_type": "markdown",
   "metadata": {},
   "source": [
    "### Loading in a Mesh"
   ]
  },
  {
   "cell_type": "code",
   "execution_count": 3,
   "metadata": {
    "scrolled": false
   },
   "outputs": [
    {
     "name": "stderr",
     "output_type": "stream",
     "text": [
      "/home/max/anaconda3/lib/python3.7/site-packages/jax/lib/xla_bridge.py:130: UserWarning: No GPU/TPU found, falling back to CPU.\n",
      "  warnings.warn('No GPU/TPU found, falling back to CPU.')\n"
     ]
    },
    {
     "name": "stdout",
     "output_type": "stream",
     "text": [
      "Loading in mesh: 3.022491216659546 s\n",
      "edge connectivity + lens: 0.25345468521118164 s\n",
      "vertex neighbourhood connectivity: 0.08222579956054688 s\n",
      "face neighbourhood connectivity: 0.06087613105773926 s\n",
      "normals + area: 0.10664010047912598 s\n",
      "dual points: 0.22161102294921875 s\n",
      "vertex - face adjacency: 0.5459408760070801 s\n",
      "dual edge computation: 15.677211999893188 s\n"
     ]
    },
    {
     "data": {
      "application/vnd.jupyter.widget-view+json": {
       "model_id": "f517045d9d10497d987d7e0ee0d0c9b0",
       "version_major": 2,
       "version_minor": 0
      },
      "text/plain": [
       "Renderer(camera=PerspectiveCamera(children=(DirectionalLight(color='white', intensity=0.6, position=(-0.016800…"
      ]
     },
     "metadata": {},
     "output_type": "display_data"
    },
    {
     "data": {
      "text/plain": [
       "1"
      ]
     },
     "execution_count": 3,
     "metadata": {},
     "output_type": "execute_result"
    }
   ],
   "source": [
    "DATA = './meshes/'\n",
    "meshfile = 'stanford_bunny_original.obj'\n",
    "\n",
    "V, F, NF, E, NV, N, A, VF, D, El, DEl, DE, DA = precompute_mesh_attributes(DATA, meshfile)\n",
    "\n",
    "d = mp.plot(np.array(V), np.array(F), return_plot=True, shading={'wireframe': True})\n",
    "d.add_points(np.array(D[0:2, :]), shading={\"point_size\": 0.03, \"point_color\": \"blue\"})"
   ]
  },
  {
   "cell_type": "markdown",
   "metadata": {},
   "source": [
    "## Computing the Laplacian operator (Crane)\n",
    "\n",
    "In [2], the Laplacian operator $\\Delta u = f$ is given by,\n",
    "$$\n",
    "(\\Delta u)_i = \\frac{1}{2}\\sum\\limits_j (\\cot \\alpha_j + \\cot \\beta_j)(u_i - u_j)\n",
    "$$\n",
    "\n",
    "In other words, we need to construct a matrix operator, which transforms each vertex of a mesh into its cotan weighted Laplacian representation.\n",
    "\n",
    "From [2] we know that we can express the Laplacian, $\\Delta = \\nabla \\cdot \\nabla$ using discrete exterior calculus as,\n",
    "$$\n",
    "\\star d \\star du = f\n",
    "$$\n",
    "where $\\star$ denotes the Hodge star operator.\n",
    "\n",
    "Starting from a 0-form $u$ (i.e. a number $u_i$ at each vertex), we can compute the discrete exterior derivative, $du$, which corresponds to integrating the derivative along each edge:\n",
    "$$\n",
    "(du)_{ij} = \\int\\limits_{e_{ij}} du\n",
    "$$\n",
    "Now, using Stokes theorem we see that,\n",
    "$$\n",
    "\\int\\limits_{e_{ij}} du = \n",
    "\\int\\limits_{\\partial e_{ij}} u =\n",
    "u_j - u_i\n",
    "$$\n",
    "which means that the discrete derivative of $u_i$ is simply the edge going from vertex $i$ to vertex $j$.\n",
    "\n",
    "The Hodge star operator converts the circulation along the edge $e_{ij}$ into the flux through the corresponding dual edge.\n",
    "For a triangle mesh, the dual of an edge, $e^\\star_{ij}$ corresponds to the\n",
    "edge going from between the midpoints of the triangles sharing edge $e_{ij}$.\n",
    "To compute $(\\star du)_{ij}$, we therefore need to take the total circulation along the primal edge, given by $u_j - u_i$, dividing by the length of the primal edge ($|e_{ij}|$), and multiplying by the length of the dual edge,\n",
    "$$\n",
    "(\\star du)_{ij} = \\frac{|e^\\star_{ij}|}{|e_{ij}|}(u_j - u_i)\n",
    "$$\n",
    "\n",
    "Taking the derivative of this quantity corresponds to integrating over the whole dual cell (i.e. w.r.t. all primal and dual edges of a vertex $i$),\n",
    "$$\n",
    "(d \\star du)_{i} = \\int\\limits_{C_i} d \\star du =\n",
    "\\int\\limits_{\\partial C_i} \\star du =\n",
    "\\sum\\limits_j \\frac{|e^\\star_{ij}|}{|e_{ij}|}(u_j - u_i)\n",
    "$$\n",
    "where we again applied Stokes theorem, and $C_i$ corresponds to the area of the entire dual cell.\n",
    "\n",
    "The final Hodge star corresponds to dividing by the total area of the cell, which leaves us with a final formulation of the Laplacian as,\n",
    "$$\n",
    "(\\star d \\star du)_i = \\frac{1}{C_i}\\sum\\limits_j \\frac{|e^\\star_{ij}|}{|e_{ij}|}(u_j - u_i) = f\\Rightarrow\n",
    "$$\n",
    "$$\n",
    "(\\Delta u)_i = \\frac{1}{C_i}\\sum\\limits_j \\frac{|e^\\star_{ij}|}{|e_{ij}|}(u_j - u_i) = f\n",
    "$$\n",
    "\n",
    "Usually, this is transformed s.t.,\n",
    "$$\n",
    "\\star d \\star du = f \\Rightarrow\n",
    "d \\star du = \\star f\n",
    "$$\n",
    "since $d \\star du$ is then symmetrical.\n",
    "Thus, we end up with the final relation given by,\n",
    "$$\n",
    "(\\Delta u)_i = \\sum\\limits_j \\frac{|e^\\star_{ij}|}{|e_{ij}|}(u_j - u_i) = C_i f\n",
    "$$"
   ]
  },
  {
   "cell_type": "code",
   "execution_count": 14,
   "metadata": {},
   "outputs": [],
   "source": [
    "# Initialize the Laplacian\n",
    "L = np.zeros((V.shape[0], V.shape[0]))\n",
    "# Initialize the weights (i.e. the length fo the dual edge divided by the length of the primal edge)\n",
    "L[np.where(E==1)] = jnp.multiply(DEl[DEl != 0], 1./El[El != 0])\n",
    "# Initialize the diagonal as the sum of all these weights\n",
    "L[np.diag_indices_from(L)] = -np.sum(L, axis=1)\n",
    "# Divide all entries by the area of the i'th element\n",
    "# TODO: Implement dual cell area properly\n",
    "# currently, it produces the wrong results"
   ]
  },
  {
   "cell_type": "markdown",
   "metadata": {},
   "source": [
    "## Example 1) Mean Curvature Flow"
   ]
  },
  {
   "cell_type": "code",
   "execution_count": 22,
   "metadata": {},
   "outputs": [
    {
     "data": {
      "application/vnd.jupyter.widget-view+json": {
       "model_id": "2dedb35db3de41cc9f603de7cc0d2b75",
       "version_major": 2,
       "version_minor": 0
      },
      "text/plain": [
       "HBox(children=(Output(), Output()))"
      ]
     },
     "metadata": {},
     "output_type": "display_data"
    }
   ],
   "source": [
    "# Forward Euler\n",
    "f0x = V[:, 0]\n",
    "f0y = V[:, 1]\n",
    "f0z = V[:, 2]\n",
    "\n",
    "h = 250.75\n",
    "\n",
    "fhx = -f0x - h * jnp.matmul(L, f0x)\n",
    "fhy = -f0y - h * jnp.matmul(L, f0y)\n",
    "fhz = -f0z - h * jnp.matmul(L, f0z)\n",
    "\n",
    "fhforward = jnp.vstack([fhx, fhy, fhz]).T * -1\n",
    "\n",
    "# Backwards Euler\n",
    "fhx = jnp.linalg.solve(jnp.eye(L.shape[0], dtype=jnp.float32) - h * L, f0x)\n",
    "fhy = jnp.linalg.solve(jnp.eye(L.shape[0], dtype=jnp.float32) - h * L, f0y)\n",
    "fhz = jnp.linalg.solve(jnp.eye(L.shape[0], dtype=jnp.float32) - h * L, f0z)\n",
    "\n",
    "fhbackward = jnp.vstack([fhx, fhy, fhz]).T\n",
    "\n",
    "d = mp.subplot(np.array(V), np.array(F), c=np.array([1.0, 0.0, 0.0]),  s=[1, 2, 0])\n",
    "#mp.subplot(np.array(fhforward), np.array(F), c=np.array([1.0, 0.0, 0]), s=[3, 1, 1], data=d)\n",
    "mp.subplot(np.array(fhbackward), np.array(F), c=np.array([1.0, 0.0, 1.0]), s=[1, 2, 1], data=d)"
   ]
  },
  {
   "cell_type": "markdown",
   "metadata": {},
   "source": [
    "## Computing the Laplacian operator (Sorkine)\n",
    "\n",
    "The Laplacian is given by,\n",
    "$$\n",
    "    L\\mathbf{x} = \\delta^{(x)}\n",
    "$$\n",
    "\n",
    "where $L$ is the Laplacian operator defined as,\n",
    "\n",
    "$$\n",
    "    L = I - D^{(-1)}A\n",
    "$$\n",
    "\n",
    "Given matrix $D$, for which\n",
    "\n",
    "$$\n",
    "    (D)_{ij} =\n",
    "    \\begin{cases}\n",
    "    d_i, & \\text{ if } i = j\\\\\n",
    "    0, & \\text{ otherwise }\n",
    "    \\end{cases}\n",
    "$$\n",
    "\n",
    "where $d_i = \\Omega_i$ (i.e. the size of the voronoi cell of vertex $i$) and $A$ as,\n",
    "\n",
    "$$\n",
    "(A)_{ij} =\n",
    "\\begin{cases}\n",
    "1, & \\text{ if } (i, j) \\in E\\\\\n",
    "0, & \\text{ otherwise }\n",
    "\\end{cases}\n",
    "$$\n",
    "\n",
    "(See [1])\n",
    "\n",
    "As we have already computed $D$ and $A$, we simply have:"
   ]
  },
  {
   "cell_type": "code",
   "execution_count": 6,
   "metadata": {},
   "outputs": [],
   "source": [
    "D = jnp.diag(jnp.sum(E, axis=1))\n",
    "L = jnp.eye(V.shape[0], dtype=jnp.float32) - jnp.dot(jnp.linalg.inv(D), E)"
   ]
  },
  {
   "cell_type": "markdown",
   "metadata": {},
   "source": [
    "We also have the symmetric matrix $L_s$ given by,\n",
    "$$\n",
    "L_s = D - A\n",
    "$$"
   ]
  },
  {
   "cell_type": "code",
   "execution_count": 7,
   "metadata": {},
   "outputs": [],
   "source": [
    "L_s = D - E"
   ]
  },
  {
   "cell_type": "markdown",
   "metadata": {},
   "source": [
    "## Computing the cotan weights\n",
    "\n",
    "All which is left for us, is to compute the weights $\\delta_i$ given by,\n",
    "$$\n",
    "\\delta_i = \\frac{1}{\\Omega_i}\\sum\\limits_{j \\in N(i)} \\frac{1}{2} (\\cot \\alpha_{j} + \\cot \\beta_{j})(v_i - v_j)\n",
    "$$\n",
    "This formulation is also refered to as the *cotan formula*.\n",
    "Notice here, that there is a difference in the sign between the cotan formulation in [1] and [2].\n",
    "\n",
    "From [2], we know that we can compute the cotan formula as,\n",
    "$$\n",
    "\\nabla_{v_i} A = \\frac{1}{2}\\sum\\limits_j (\\cot \\alpha_j +\\cot \\beta_j)(v_i - v_i) \n",
    "$$\n",
    "(Here, we flipped the sign of the edge difference from $(v_j - v_i) \\to (v_i - v_j)$, as is done in [1]).\n",
    "Thus, if we just compute the area of all triangles in the neighbourhood of $v_i$, we can compute the cotan weights\n",
    "by taking the derivative using JAX."
   ]
  },
  {
   "cell_type": "code",
   "execution_count": 8,
   "metadata": {},
   "outputs": [],
   "source": [
    "# Unfortunately, we have to recompute the area in order to take the gradient.\n",
    "# However, this is rather quick since we already know the neighbourhood of each vertex.\n",
    "def compute_area(V, F, NF):\n",
    "    Ns = jnp.cross(V[F[:, 1]] - V[F[:, 0]], V[F[:,2]] - V[F[:, 0]])\n",
    "    A = jnp.linalg.norm(Ns, axis=1) * 0.5\n",
    "    return jnp.matmul(NF, A)\n",
    "\n",
    "# We can then simply compute the deltas as:\n",
    "deltas = jacfwd(compute_area)(V, F, NF).diagonal().T\n",
    "deltas = jnp.multiply(deltas.T, 1. / compute_area(V, F, NF)).T"
   ]
  },
  {
   "cell_type": "markdown",
   "metadata": {},
   "source": [
    "## Solving for absolute coordinates\n",
    "\n",
    "Now that we have expressed our mesh as,\n",
    "$$\n",
    "L\\mathbf{v} = \\delta\n",
    "$$\n",
    "we're almost ready to use the Laplacian.\n",
    "In the applications we're concerned with, we will be changing $\\delta$, which means that we're interested in the\n",
    "relation,\n",
    "$$\n",
    "\\mathbf{v} = L^{-1}\\delta\n",
    "$$\n",
    "which means we should be able to restore our mesh using the $\\delta$ we computed before altering them."
   ]
  },
  {
   "cell_type": "code",
   "execution_count": 9,
   "metadata": {},
   "outputs": [],
   "source": [
    "Vreconstructed = jnp.matmul(jnp.linalg.inv(L), deltas)"
   ]
  },
  {
   "cell_type": "markdown",
   "metadata": {},
   "source": [
    "However, these are not the correct values!"
   ]
  },
  {
   "cell_type": "code",
   "execution_count": 10,
   "metadata": {},
   "outputs": [
    {
     "data": {
      "text/plain": [
       "DeviceArray(2.4771748e+09, dtype=float32)"
      ]
     },
     "execution_count": 10,
     "metadata": {},
     "output_type": "execute_result"
    }
   ],
   "source": [
    "jnp.linalg.norm(V - Vreconstructed)"
   ]
  },
  {
   "cell_type": "code",
   "execution_count": 11,
   "metadata": {},
   "outputs": [
    {
     "data": {
      "application/vnd.jupyter.widget-view+json": {
       "model_id": "485da7a285c542e5b81a685bb79e80b2",
       "version_major": 2,
       "version_minor": 0
      },
      "text/plain": [
       "HBox(children=(Output(), Output()))"
      ]
     },
     "metadata": {},
     "output_type": "display_data"
    }
   ],
   "source": [
    "d = mp.subplot(np.array(Vreconstructed), np.array(F), c=np.array([1.0, 0.0, 0.0]),  s=[1, 2, 0])\n",
    "mp.subplot(np.array(V), np.array(F), c=np.array([0.0, 0.0, 1.0]), s=[1, 2, 1], data=d)"
   ]
  },
  {
   "cell_type": "markdown",
   "metadata": {},
   "source": [
    "This error is caused by the need to \"anchor\" down some of our vertices, as they will otherwise be translation invariant.\n",
    "We can without loss of generality add $m$ constraints $C$, s.t.\n",
    "$$\n",
    "v_j = c_j,  j \\in C\n",
    "$$\n",
    "\n",
    "Our system of equations then becomes,\n",
    "$$\n",
    "\\begin{pmatrix}\n",
    "L\\\\\n",
    "\\hline\n",
    "\\omega I_{m \\times m} | 0\n",
    "\\end{pmatrix} =\n",
    "\\begin{pmatrix}\n",
    "\\delta\\\\\n",
    "c_{1:m}\n",
    "\\end{pmatrix}\n",
    "$$\n",
    "\n",
    "Defining,\n",
    "$$ \\tilde{L} =\n",
    "\\begin{pmatrix}\n",
    "L\\\\\n",
    "\\hline\n",
    "\\omega I_{m \\times m} | 0\n",
    "\\end{pmatrix}\n",
    "$$\n",
    "we can then solve this system of equations as\n",
    "$$\n",
    "\\mathbf{v} = (\\tilde{L}^T\\tilde{L})^{-1}\\tilde{L}^T\\begin{pmatrix}\n",
    "\\delta, &\n",
    "c_{1:m}\n",
    "\\end{pmatrix}^T\n",
    "$$\n",
    "\n",
    "to reconstruct the mesh."
   ]
  },
  {
   "cell_type": "code",
   "execution_count": 12,
   "metadata": {
    "scrolled": false
   },
   "outputs": [
    {
     "name": "stdout",
     "output_type": "stream",
     "text": [
      "2503\n"
     ]
    },
    {
     "data": {
      "application/vnd.jupyter.widget-view+json": {
       "model_id": "fd6e0e47fcc44f57adc634ee5796e3d1",
       "version_major": 2,
       "version_minor": 0
      },
      "text/plain": [
       "HBox(children=(Output(), Output()))"
      ]
     },
     "metadata": {},
     "output_type": "display_data"
    },
    {
     "name": "stdout",
     "output_type": "stream",
     "text": [
      "Residual: 45433.207\n"
     ]
    }
   ],
   "source": [
    "print(V.shape[0])\n",
    "n = L.shape[1] # Number of columns in L\n",
    "m = 100 # Num constraints\n",
    "omega = 1.0\n",
    "Imxm = jnp.eye(m, dtype=jnp.float32)\n",
    "# Choose the m first vertices as being fixed\n",
    "c = V[:m]\n",
    "L_tilde = np.zeros((L.shape[0] + m, L.shape[1]))\n",
    "L_tilde[:L.shape[0], :L.shape[1]] = L\n",
    "L_tilde[L.shape[0]:, :m] = Imxm\n",
    "L_tilde = jnp.array(L_tilde)\n",
    "\n",
    "rhs = np.zeros((deltas.shape[0] + m, 3))\n",
    "rhs[:deltas.shape[0], :] = deltas\n",
    "rhs[deltas.shape[0]:, :] = omega * c\n",
    "rhs = jnp.array(rhs)\n",
    "\n",
    "Vreconstructed = jnp.dot(jnp.dot(jnp.linalg.inv(jnp.dot(L_tilde.T, L_tilde)), L_tilde.T), rhs)\n",
    "d = mp.subplot(np.array(Vreconstructed), np.array(F), c=np.array([1.0, 0.0, 0.0]),  s=[1, 2, 0])\n",
    "mp.subplot(np.array(V), np.array(F), c=np.array([0.0, 0.0, 1.0]), s=[1, 2, 1], data=d)\n",
    "print(\"Residual:\", jnp.linalg.norm(Vreconstructed - V))"
   ]
  },
  {
   "cell_type": "markdown",
   "metadata": {},
   "source": [
    "References\n",
    "-------\n",
    "\n",
    "[1] **Differential Representations for Mesh Processing**, *Sorkine, Olga*, 2006, *Computer Graphics Forum*, Vol. 25\n",
    "\n",
    "[2] **Discrete Differential Geometry: An Applied Introduction**, *Crane, Keenan*, 2020, Notices of the AMS, Communication"
   ]
  }
 ],
 "metadata": {
  "kernelspec": {
   "display_name": "Python 3",
   "language": "python",
   "name": "python3"
  },
  "language_info": {
   "codemirror_mode": {
    "name": "ipython",
    "version": 3
   },
   "file_extension": ".py",
   "mimetype": "text/x-python",
   "name": "python",
   "nbconvert_exporter": "python",
   "pygments_lexer": "ipython3",
   "version": "3.7.6"
  }
 },
 "nbformat": 4,
 "nbformat_minor": 4
}
