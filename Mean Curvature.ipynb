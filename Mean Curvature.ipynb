{
 "cells": [
  {
   "cell_type": "code",
   "execution_count": 1,
   "metadata": {},
   "outputs": [],
   "source": [
    "import time\n",
    "import functools\n",
    "import numpy as np\n",
    "import jax\n",
    "import jax.numpy as jnp\n",
    "from jax import grad, jacfwd, vmap, jit\n",
    "\n",
    "import meshplot as mp"
   ]
  },
  {
   "cell_type": "code",
   "execution_count": 3,
   "metadata": {},
   "outputs": [
    {
     "name": "stdout",
     "output_type": "stream",
     "text": [
      "(162, 3)\n",
      "(320, 3)\n"
     ]
    },
    {
     "data": {
      "application/vnd.jupyter.widget-view+json": {
       "model_id": "4b60af3744a741639d2527ac4877ca48",
       "version_major": 2,
       "version_minor": 0
      },
      "text/plain": [
       "Renderer(camera=PerspectiveCamera(children=(DirectionalLight(color='white', intensity=0.6, position=(0.0, 0.0,…"
      ]
     },
     "metadata": {},
     "output_type": "display_data"
    }
   ],
   "source": [
    "DATA = 'meshes/'\n",
    "examplemesh = 'sphere2.obj'\n",
    "#examplemesh = 'testmesh.obj'\n",
    "\n",
    "def objloader(folder, fname):\n",
    "    V = []\n",
    "    F = []\n",
    "    with open(folder + fname, 'r') as f:\n",
    "        lines = f.readlines()\n",
    "        for l in lines:\n",
    "            token = l.split(' ')[0]\n",
    "            if token == 'v':\n",
    "                V.append(jnp.array([float(v) for v in l.split(' ')[1:]]))\n",
    "            if token == 'f':\n",
    "                F.append(jnp.array([int(f.split('/')[0]) - 1 for f in l.split(' ')[1:]]))\n",
    "    #print(F)\n",
    "    V = jnp.array(V)\n",
    "    F = jnp.array(F, dtype=jnp.int32)\n",
    "    \n",
    "    return V, F\n",
    "\n",
    "def to_numpy_array(X):\n",
    "    Np_array = np.zeros(X.shape)\n",
    "    for n in range(X.shape[0]):\n",
    "        Np_array[n] = X[n]\n",
    "    return Np_array\n",
    "\n",
    "\n",
    "def objloader_np(folder, fname):\n",
    "    V = []\n",
    "    F = []\n",
    "    with open(folder + fname, 'r') as f:\n",
    "        lines = f.readlines()\n",
    "        for l in lines:\n",
    "            token = l.split(' ')[0]\n",
    "            if token == 'v':\n",
    "                V.append(jnp.array([float(v) for v in l.split(' ')[1:]]))\n",
    "            if token == 'f':\n",
    "                F.append(jnp.array([int(f.split('/')[0]) - 1 for f in l.split(' ')[1:]]))\n",
    "    #print(F)\n",
    "    V = np.array(V)\n",
    "    F = np.array(F, dtype=jnp.int32)\n",
    "    \n",
    "    return V, F\n",
    "\n",
    "def get_edge(V, e0, e1):\n",
    "    return V[e1] - V[e0]\n",
    "\n",
    "def normalize(v):\n",
    "    return v / jnp.linalg.norm(v)\n",
    "\n",
    "def compute_normal_normalized(e0, e1):\n",
    "    return normalize(jnp.cross(e0, e1))\n",
    "\n",
    "def compute_normal(e0, e1):\n",
    "    return jnp.cross(e0, e1)\n",
    "\n",
    "compute_normal_vmap = vmap(jnp.cross)\n",
    "\n",
    "V, F = objloader(DATA, examplemesh)\n",
    "Nfs = [[fi for fi, f in enumerate(F) if vi in f] for vi in jnp.arange(V.shape[0])]\n",
    "VF = np.zeros((V.shape[0], F.shape[0]),dtype=np.int32)\n",
    "\n",
    "for vi in np.arange(V.shape[0]):\n",
    "    Nf = Nfs[vi]\n",
    "\n",
    "    for fi in Nf:\n",
    "        VF[vi, fi] = 1\n",
    "        \n",
    "VF = jnp.array(VF)\n",
    "\n",
    "V_np, F_np = objloader_np(DATA, examplemesh)\n",
    "\n",
    "%matplotlib notebook\n",
    "mp.jupyter()\n",
    "print(V.shape)\n",
    "print(F.shape)\n",
    "p = mp.plot(V_np, F_np)\n",
    "#p.save(\"test.html\")"
   ]
  },
  {
   "cell_type": "markdown",
   "metadata": {},
   "source": [
    "## Coding 10.1\n",
    "\n",
    "### Compute the uniformly weighted vertex normals given by\n",
    "\n",
    "$\n",
    "N_U = \\sum\\limits_i N_i\n",
    "$"
   ]
  },
  {
   "cell_type": "code",
   "execution_count": 4,
   "metadata": {},
   "outputs": [],
   "source": [
    "def compute_uniformly_weighted_normals(V, F):\n",
    "    Nu = []\n",
    "    for vi, v in enumerate(V):\n",
    "        # Get neighbouring faces\n",
    "        Nf = [fi for fi, f in enumerate(F) if vi in f]\n",
    "        # Compute normals\n",
    "        Nv = jnp.zeros(3)\n",
    "        for fi in Nf:\n",
    "            f = F[fi]\n",
    "            Nv += compute_normal_normalized(V[f[1]] - V[f[0]], V[f[2]] - V[f[0]])\n",
    "        Nu.append(normalize(Nv))\n",
    "    return jnp.array(Nu)\n",
    "        \n",
    "N_U = compute_uniformly_weighted_normals(V, F)"
   ]
  },
  {
   "cell_type": "markdown",
   "metadata": {},
   "source": [
    "## Coding 10.2\n",
    "\n",
    "### Compute the vertex normal using face area weights\n",
    "\n",
    "$\n",
    "N_\\nu = \\sum\\limits_i N_i \\cdot \\frac{A_i}{\\sum\\limits_j A_j} = \\frac{1}{\\sum\\limits_j A_j}\\sum\\limits_i N_i \\cdot A_i\n",
    "$"
   ]
  },
  {
   "cell_type": "code",
   "execution_count": 5,
   "metadata": {},
   "outputs": [],
   "source": [
    "def compute_area_weighted_normals(V, F):\n",
    "    Nu = []\n",
    "    for vi, v in enumerate(V):\n",
    "        # Get neighbouring faces\n",
    "        Nf = [fi for fi, f in enumerate(F) if vi in f]\n",
    "        # Compute normals\n",
    "        Nv = jnp.zeros(3)\n",
    "        A = 0\n",
    "        for fi in Nf:\n",
    "            f = F[fi]\n",
    "            N = compute_normal(V[f[1]] - V[f[0]], V[f[2]] - V[f[0]])\n",
    "            Ai = jnp.linalg.norm(N) * 0.5\n",
    "            Nv += normalize(N) * Ai\n",
    "            A += Ai\n",
    "        Nv /= A\n",
    "        Nu.append(normalize(Nv))\n",
    "    return jnp.array(Nu)\n",
    "\n",
    "N_v = compute_area_weighted_normals(V, F)"
   ]
  },
  {
   "cell_type": "markdown",
   "metadata": {},
   "source": [
    "## Coding 10.3\n",
    "\n",
    "### Compute the vertex normal using tip angle\n",
    "\n",
    "$\n",
    "N_\\nu = \\sum\\limits_i \\theta_i N_i\n",
    "$"
   ]
  },
  {
   "cell_type": "code",
   "execution_count": 6,
   "metadata": {},
   "outputs": [],
   "source": [
    "def compute_tip_angle_weighted_normals(V, F):\n",
    "    Nu = []\n",
    "    for vi, v in enumerate(V):\n",
    "        # Get neighbouring faces\n",
    "        Nf = [fi for fi, f in enumerate(F) if vi in f]\n",
    "        # Compute normals\n",
    "        Nv = jnp.zeros(3)\n",
    "        for fi in Nf:\n",
    "            f = F[fi]\n",
    "            N = compute_normal(V[f[1]] - V[f[0]], V[f[2]] - V[f[0]])\n",
    "            # Figure out \"where\" the vertex is located\n",
    "            other_nodes = [fv for fv in f if fv != vi]\n",
    "            v0 = V[other_nodes[0]] - V[vi]\n",
    "            v1 = V[other_nodes[1]] - V[vi]\n",
    "            theta_i = jnp.arccos(jnp.dot(v0, v1) / (jnp.linalg.norm(v0) * jnp.linalg.norm(v1)))\n",
    "            Nv += normalize(N) * theta_i\n",
    "        Nu.append(normalize(Nv))\n",
    "    return jnp.array(Nu)\n",
    "\n",
    "N_theta = compute_tip_angle_weighted_normals(V, F)"
   ]
  },
  {
   "cell_type": "code",
   "execution_count": 7,
   "metadata": {},
   "outputs": [
    {
     "data": {
      "application/vnd.jupyter.widget-view+json": {
       "model_id": "a77dd4116ba84bcba5c09d74474815e3",
       "version_major": 2,
       "version_minor": 0
      },
      "text/plain": [
       "HBox(children=(Output(), Output(), Output()))"
      ]
     },
     "metadata": {},
     "output_type": "display_data"
    }
   ],
   "source": [
    "N_U_np = to_numpy_array(N_U)\n",
    "N_v_np = to_numpy_array(N_v)\n",
    "N_theta_np = to_numpy_array(N_theta)\n",
    "\n",
    "d = mp.subplot(V_np,F_np, c = N_U_np, s=[1, 3, 0])\n",
    "mp.subplot(V_np,F_np, c = N_v_np, s=[1, 3, 1], data=d)\n",
    "mp.subplot(V_np,F_np, c = N_theta_np, s=[1, 3, 2], data=d)\n"
   ]
  },
  {
   "cell_type": "markdown",
   "metadata": {},
   "source": [
    "## Coding 10.4\n",
    "\n",
    "### Compute the the mean curvature\n",
    "\n",
    "$\n",
    "\\Delta f = \\nabla_{p_i} A = \\frac{1}{2}\\sum\\limits_j (\\cot \\alpha_j +\\cot \\beta_j)(p_j - p_i) \n",
    "$"
   ]
  },
  {
   "cell_type": "code",
   "execution_count": 8,
   "metadata": {},
   "outputs": [
    {
     "name": "stdout",
     "output_type": "stream",
     "text": [
      "Analytical time spent: 17.873614072799683\n",
      "Autodiff time spent old: 14.788041830062866\n",
      "Autodiff time spent new: 3.3326003551483154\n",
      "Autodiff time spent newer: 3.015868663787842\n"
     ]
    }
   ],
   "source": [
    "def compute_mean_curvature(V, F):\n",
    "    nabla_P = []\n",
    "    for p_i, v in enumerate(V):\n",
    "        # Get neighbouring faces\n",
    "        Nf = [fi for fi, f in enumerate(F) if p_i in f]\n",
    "        # Get all other points\n",
    "        P_j = jnp.unique(jnp.array([[pj for pj in F[f] if pj != p_i] for f in Nf]).flatten())\n",
    "        # Compute normals\n",
    "        nabla_p = jnp.zeros(3)\n",
    "        for p_j in P_j:\n",
    "            # Assume all vertices in P_j are part of exactly two faces\n",
    "            f0, f1 = [f for f in Nf if p_j in F[f]]\n",
    "            p_k = [fi for fi in F[f0] if fi != p_j and fi != p_i][0]\n",
    "            p_m = [fi for fi in F[f1] if fi != p_j and fi != p_i][0]\n",
    "            \n",
    "            p_ki = V[p_i] - V[p_k]\n",
    "            p_kj = V[p_j] - V[p_k]\n",
    "            \n",
    "            p_mi = V[p_i] - V[p_m]\n",
    "            p_mj = V[p_j] - V[p_m]\n",
    "            \n",
    "            alpha = jnp.arccos(jnp.dot(p_ki, p_kj) / (jnp.linalg.norm(p_ki) * jnp.linalg.norm(p_kj)))\n",
    "            beta  = jnp.arccos(jnp.dot(p_mi, p_mj) / (jnp.linalg.norm(p_mi) * jnp.linalg.norm(p_mj)))\n",
    "\n",
    "            nabla_p += (1./jnp.tan(alpha) + 1./jnp.tan(beta)) * (V[p_i] - V[p_j])\n",
    "            \n",
    "        nabla_p *= 0.5\n",
    "        nabla_P.append(nabla_p)\n",
    "    return jnp.array(nabla_P)\n",
    "\n",
    "def compute_mean_curvature_jax_old(V, F):\n",
    "    A = jnp.zeros(V.shape[0])\n",
    "    for vi, v in enumerate(V):\n",
    "        # Get neighbouring faces\n",
    "        #Nf = [fi for fi, f in enumerate(F) if vi in f]\n",
    "        Nf = Nfs[vi]\n",
    "        # Compute normals\n",
    "        for fi in Nf:\n",
    "            f = F[fi]\n",
    "            #N = compute_normal(V[f[1]] - V[f[0]], V[f[2]] - V[f[0]])\n",
    "            N = jnp.cross(V[f[1]] - V[f[0]], V[f[2]] - V[f[0]])\n",
    "            A = jax.ops.index_add(A, vi, jnp.linalg.norm(N) * 0.5)\n",
    "    return A\n",
    "\n",
    "def compute_mean_curvature_jax(V, F):\n",
    "    A = [None for i in range(V.shape[0])]#jnp.zeros(V.shape[0])\n",
    "    for vi, v in enumerate(V):\n",
    "        #Nf = [fi for fi, f in enumerate(F) if vi in f]\n",
    "        Nf = Nfs[vi]\n",
    "        ff = F[Nf]\n",
    "        v1 = V[ff[:,1]] - V[ff[:,0]]\n",
    "        v2 = V[ff[:,2]] - V[ff[:,0]]\n",
    "        NN = vmap(jnp.cross)(v1, v2)\n",
    "        A[vi] = jnp.sum(jnp.linalg.norm(NN, axis=1) * 0.5)\n",
    "\n",
    "    return jnp.array(A)\n",
    "\n",
    "def compute_mean_curvature_jax_new(V, F):\n",
    "    #A = [None for i in range(V.shape[0])]\n",
    "    #import numpy as nonp\n",
    "    #A = nonp.empty(V.shape[0])\n",
    "    #@partial(jnp.vectorize, signature='(n,m),(m)->(n)')\n",
    "    def f(VFrow): #, V, F, Nfs\n",
    "        #print(vi)\n",
    "        #Nf = Nfs[vi]\n",
    "        Nf = jnp.where(VFrow)\n",
    "        ff = F[Nf]\n",
    "        v1 = V[ff[:,1]] - V[ff[:,0]]\n",
    "        v2 = V[ff[:,2]] - V[ff[:,0]]\n",
    "        NN = compute_normal_vmap(v1, v2)\n",
    "        return jnp.sum(jnp.linalg.norm(NN, axis=1) * 0.5)\n",
    "        \n",
    "    #h = jnp.vectorize(f, signature=\"(m)->()\") # I can never figure out the signature\n",
    "    # though, it complains about getting a tracer\n",
    "    #A = jnp.apply_along_axis(f, 1, VF) # same as above, complains about getting a tracer\n",
    "    A = jnp.array([f(VF[vi]) for vi in jnp.arange(V.shape[0])]) # I don't want to do this\n",
    "    #h = vmap(f) #???\n",
    "\n",
    "    #g = functools.partial(f, V=V, F=F, Nfs=Nfs)\n",
    "    # This is a probably wrong, other way of doing the below...\n",
    "    #g = lambda vi: f(vi, V, F, Nfs) # nope\n",
    "    \n",
    "    #h = vmap(g) # I have ...\n",
    "    #A = h(Nfs)  # ... tried a bit ...\n",
    "    #A = h(VF)   # ... of things.\n",
    "\n",
    "    return A\n",
    "\n",
    "now = time.time()\n",
    "analytical = compute_mean_curvature(V, F)\n",
    "then = time.time()\n",
    "print(\"Analytical time spent:\", then - now)\n",
    "now = time.time()\n",
    "dcompute_mean_curvature_jax_old = jacfwd(compute_mean_curvature_jax_old)\n",
    "autodiff_old = dcompute_mean_curvature_jax_old(V, F)\n",
    "autodiff_old = jnp.array([autodiff_old[i, i, :] for i in range(V.shape[0])])\n",
    "then = time.time()\n",
    "print(\"Autodiff time spent old:\", then - now)\n",
    "now = time.time()\n",
    "dcompute_mean_curvature_jax = jacfwd(compute_mean_curvature_jax)\n",
    "autodiff = dcompute_mean_curvature_jax(V, F)\n",
    "autodiff = jnp.array([autodiff[i, i, :] for i in range(V.shape[0])])\n",
    "then = time.time()\n",
    "print(\"Autodiff time spent new:\", then - now)\n",
    "now = time.time()\n",
    "dcompute_mean_curvature_jax_new = jacfwd(compute_mean_curvature_jax_new)\n",
    "autodiff_new = dcompute_mean_curvature_jax_new(V, F)\n",
    "autodiff_new = jnp.array([autodiff_new[i, i, :] for i in range(V.shape[0])])\n",
    "then = time.time()\n",
    "print(\"Autodiff time spent newer:\", then - now)"
   ]
  },
  {
   "cell_type": "code",
   "execution_count": 62,
   "metadata": {
    "scrolled": true
   },
   "outputs": [],
   "source": [
    "#print(jnp.linalg.norm(analytical,axis = 1))\n",
    "#print(autodiff_old)\n",
    "#print(autodiff)"
   ]
  },
  {
   "cell_type": "code",
   "execution_count": 63,
   "metadata": {
    "scrolled": true
   },
   "outputs": [],
   "source": [
    "#print(analytical)\n",
    "#print(autodiff)"
   ]
  },
  {
   "cell_type": "code",
   "execution_count": 14,
   "metadata": {},
   "outputs": [
    {
     "data": {
      "application/vnd.jupyter.widget-view+json": {
       "model_id": "a62f3d3c92ee4f9292a3a0dd0224bd82",
       "version_major": 2,
       "version_minor": 0
      },
      "text/plain": [
       "HBox(children=(Output(), Output()))"
      ]
     },
     "metadata": {},
     "output_type": "display_data"
    }
   ],
   "source": [
    "analytical_np = to_numpy_array(analytical)\n",
    "autodiff_old_np = to_numpy_array(autodiff_old)\n",
    "autodiff_new_np = to_numpy_array(autodiff_new)\n",
    "\n",
    "scale = 3\n",
    "\n",
    "plot_curvature = mp.subplot(V_np,F_np, c = scale * analytical_np, s=[1, 2, 0])\n",
    "mp.subplot(V_np,F_np, c = scale * autodiff_new_np, s=[1, 2, 1], data=plot_curvature)"
   ]
  },
  {
   "cell_type": "code",
   "execution_count": 15,
   "metadata": {},
   "outputs": [
    {
     "data": {
      "application/vnd.jupyter.widget-view+json": {
       "model_id": "205231250f0f4e5e883574d43f1ce565",
       "version_major": 2,
       "version_minor": 0
      },
      "text/plain": [
       "HBox(children=(Output(), Output()))"
      ]
     },
     "metadata": {},
     "output_type": "display_data"
    }
   ],
   "source": [
    "plot_curvature2 = mp.subplot(V_np,F_np, c = np.linalg.norm(analytical_np,axis = 1), s=[1, 2, 0])\n",
    "mp.subplot(V_np,F_np, c = np.linalg.norm(autodiff_new_np,axis = 1), s=[1, 2, 1], data=plot_curvature2)"
   ]
  },
  {
   "cell_type": "code",
   "execution_count": null,
   "metadata": {},
   "outputs": [],
   "source": []
  }
 ],
 "metadata": {
  "kernelspec": {
   "display_name": "Python 3",
   "language": "python",
   "name": "python3"
  },
  "language_info": {
   "codemirror_mode": {
    "name": "ipython",
    "version": 3
   },
   "file_extension": ".py",
   "mimetype": "text/x-python",
   "name": "python",
   "nbconvert_exporter": "python",
   "pygments_lexer": "ipython3",
   "version": "3.7.3"
  }
 },
 "nbformat": 4,
 "nbformat_minor": 4
}
