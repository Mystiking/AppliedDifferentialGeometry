{
 "cells": [
  {
   "cell_type": "code",
   "execution_count": 1,
   "metadata": {},
   "outputs": [],
   "source": [
    "import jax.numpy as jnp\n",
    "import numpy as np\n",
    "import meshplot as mp\n",
    "from mesh_processing import precompute_mesh_attributes, compute_mesh_attributes, compute_laplacian_crane, compute_laplacian_sorkine"
   ]
  },
  {
   "cell_type": "code",
   "execution_count": 2,
   "metadata": {},
   "outputs": [
    {
     "name": "stderr",
     "output_type": "stream",
     "text": [
      "/home/max/anaconda3/lib/python3.7/site-packages/jax/lib/xla_bridge.py:130: UserWarning: No GPU/TPU found, falling back to CPU.\n",
      "  warnings.warn('No GPU/TPU found, falling back to CPU.')\n"
     ]
    },
    {
     "name": "stdout",
     "output_type": "stream",
     "text": [
      "Loading in mesh: 4.173292875289917 s\n",
      "edge connectivity + lens: 0.25501132011413574 s\n",
      "vertex neighbourhood connectivity: 0.09339570999145508 s\n",
      "face neighbourhood connectivity: 0.07124567031860352 s\n",
      "normals + area: 0.09645414352416992 s\n",
      "dual points: 0.13018441200256348 s\n",
      "vertex - face adjacency: 0.6323938369750977 s\n",
      "dual edge computation: 14.96780800819397 s\n"
     ]
    },
    {
     "data": {
      "application/vnd.jupyter.widget-view+json": {
       "model_id": "339093fed24241ccbabbfc5979725d51",
       "version_major": 2,
       "version_minor": 0
      },
      "text/plain": [
       "Renderer(camera=PerspectiveCamera(children=(DirectionalLight(color='white', intensity=0.6, position=(0.7761263…"
      ]
     },
     "metadata": {},
     "output_type": "display_data"
    }
   ],
   "source": [
    "DATA = './meshes/'\n",
    "meshfile = 'cow.obj'\n",
    "#meshfile = 'suzanne.obj'\n",
    "\n",
    "V, F, NF, E, NV, N, A, VF, D, El, DEl, DE, DA = precompute_mesh_attributes(DATA, meshfile)\n",
    "\n",
    "d = mp.plot(np.array(V), np.array(F), return_plot=True, shading={'wireframe': True})"
   ]
  },
  {
   "cell_type": "code",
   "execution_count": 7,
   "metadata": {},
   "outputs": [
    {
     "data": {
      "application/vnd.jupyter.widget-view+json": {
       "model_id": "b8be654db2f343b08c9a77a54ea34681",
       "version_major": 2,
       "version_minor": 0
      },
      "text/plain": [
       "HBox(children=(Output(),))"
      ]
     },
     "metadata": {},
     "output_type": "display_data"
    },
    {
     "data": {
      "application/vnd.jupyter.widget-view+json": {
       "model_id": "07010abd8371455eb244ba69c14aa3a0",
       "version_major": 2,
       "version_minor": 0
      },
      "text/plain": [
       "HBox(children=(Output(),))"
      ]
     },
     "metadata": {},
     "output_type": "display_data"
    },
    {
     "data": {
      "application/vnd.jupyter.widget-view+json": {
       "model_id": "332e005ab7aa48ae96ebcc26fe111b0b",
       "version_major": 2,
       "version_minor": 0
      },
      "text/plain": [
       "HBox(children=(Output(),))"
      ]
     },
     "metadata": {},
     "output_type": "display_data"
    }
   ],
   "source": [
    "L = compute_laplacian_crane(V, E, El, DEl)\n",
    "# Forward Euler\n",
    "f0x = V[:, 0]\n",
    "f0y = V[:, 1]\n",
    "f0z = V[:, 2]\n",
    "\n",
    "h = 2.75\n",
    "\n",
    "fhx = -f0x - h * jnp.matmul(L, f0x)\n",
    "fhy = -f0y - h * jnp.matmul(L, f0y)\n",
    "fhz = -f0z - h * jnp.matmul(L, f0z)\n",
    "\n",
    "fhforward = jnp.vstack([fhx, fhy, fhz]).T * -1\n",
    "\n",
    "# Backwards Euler\n",
    "fhx = jnp.linalg.solve(jnp.eye(L.shape[0], dtype=jnp.float32) - h * L, f0x)\n",
    "fhy = jnp.linalg.solve(jnp.eye(L.shape[0], dtype=jnp.float32) - h * L, f0y)\n",
    "fhz = jnp.linalg.solve(jnp.eye(L.shape[0], dtype=jnp.float32) - h * L, f0z)\n",
    "\n",
    "fhbackward = jnp.vstack([fhx, fhy, fhz]).T\n",
    "\n",
    "d = mp.subplot(np.array(V), np.array(F), c=np.array([1.0, 0.0, 0.0]),  s=[3, 1, 0])\n",
    "mp.subplot(np.array(fhforward), np.array(F), c=np.array([1.0, 0.0, 0]), s=[3, 1, 1], data=d)\n",
    "mp.subplot(np.array(fhbackward), np.array(F), c=np.array([1.0, 0.0, 1.0]), s=[3, 1, 2], data=d)"
   ]
  }
 ],
 "metadata": {
  "kernelspec": {
   "display_name": "Python 3",
   "language": "python",
   "name": "python3"
  },
  "language_info": {
   "codemirror_mode": {
    "name": "ipython",
    "version": 3
   },
   "file_extension": ".py",
   "mimetype": "text/x-python",
   "name": "python",
   "nbconvert_exporter": "python",
   "pygments_lexer": "ipython3",
   "version": "3.7.6"
  }
 },
 "nbformat": 4,
 "nbformat_minor": 4
}
