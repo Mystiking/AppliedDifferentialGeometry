{
 "cells": [
  {
   "cell_type": "code",
   "execution_count": 24,
   "metadata": {},
   "outputs": [],
   "source": [
    "import jax\n",
    "import numpy as onp\n",
    "import jax.numpy as jnp\n",
    "from jax import grad\n",
    "import mesh_processing as mp\n",
    "import meshplot as mplot\n",
    "import matplotlib.pyplot as plt"
   ]
  },
  {
   "cell_type": "code",
   "execution_count": 31,
   "metadata": {},
   "outputs": [
    {
     "data": {
      "text/plain": [
       "['__builtins__',\n",
       " '__cached__',\n",
       " '__doc__',\n",
       " '__file__',\n",
       " '__loader__',\n",
       " '__name__',\n",
       " '__package__',\n",
       " '__spec__',\n",
       " 'compute_dual_edges',\n",
       " 'compute_edge_connectivity',\n",
       " 'compute_face_neighbourhood_matrix',\n",
       " 'compute_laplacian_crane',\n",
       " 'compute_laplacian_sorkine',\n",
       " 'compute_mesh_attributes',\n",
       " 'compute_mesh_dual_points',\n",
       " 'compute_normals_and_areas',\n",
       " 'compute_vertex_face_participation_matrix',\n",
       " 'compute_vertex_neighbourhood_matrix',\n",
       " 'compute_voronoi_cell_areas',\n",
       " 'jnp',\n",
       " 'np',\n",
       " 'objloader',\n",
       " 'precompute_mesh_attributes',\n",
       " 'reconstruct']"
      ]
     },
     "execution_count": 31,
     "metadata": {},
     "output_type": "execute_result"
    }
   ],
   "source": [
    "dir(mesh_processing)"
   ]
  },
  {
   "cell_type": "code",
   "execution_count": 3,
   "metadata": {},
   "outputs": [],
   "source": [
    "V_pc,F_pc = mp.objloader('project2/meshes/Spheroids/','partial_cubified.obj')\n",
    "V_s,F_s = mp.objloader('project2/meshes/Spheroids/','Sphere.obj')\n",
    "V_c,F_c = mp.objloader('project2/meshes/Spheroids/','cubified.obj')"
   ]
  },
  {
   "cell_type": "code",
   "execution_count": 6,
   "metadata": {},
   "outputs": [
    {
     "data": {
      "application/vnd.jupyter.widget-view+json": {
       "model_id": "edfdd39567394848b6b3242f38ecc676",
       "version_major": 2,
       "version_minor": 0
      },
      "text/plain": [
       "Renderer(camera=PerspectiveCamera(children=(DirectionalLight(color='white', intensity=0.6, position=(0.0, 0.0,…"
      ]
     },
     "metadata": {},
     "output_type": "display_data"
    },
    {
     "data": {
      "application/vnd.jupyter.widget-view+json": {
       "model_id": "b2a6b7508c254ae48392efd66d25383c",
       "version_major": 2,
       "version_minor": 0
      },
      "text/plain": [
       "Renderer(camera=PerspectiveCamera(children=(DirectionalLight(color='white', intensity=0.6, position=(0.0, 0.0,…"
      ]
     },
     "metadata": {},
     "output_type": "display_data"
    },
    {
     "data": {
      "application/vnd.jupyter.widget-view+json": {
       "model_id": "e93e42528dad4feaafb54b3cc8e92923",
       "version_major": 2,
       "version_minor": 0
      },
      "text/plain": [
       "Renderer(camera=PerspectiveCamera(children=(DirectionalLight(color='white', intensity=0.6, position=(0.0, 0.0,…"
      ]
     },
     "metadata": {},
     "output_type": "display_data"
    }
   ],
   "source": [
    "def to_numpy_array(X):\n",
    "    Np_array = onp.zeros(X.shape)\n",
    "    for n in range(X.shape[0]):\n",
    "        Np_array[n] = X[n]\n",
    "    return Np_array\n",
    "\n",
    "def plot_mesh(V,F):\n",
    "    V_plot = to_numpy_array(V)\n",
    "    F_plot = to_numpy_array(F)\n",
    "    mplot.plot(V_plot,F_plot)\n",
    "    \n",
    "plot_mesh(V_pc,F_pc)\n",
    "plot_mesh(V_c,F_c)\n",
    "plot_mesh(V_s,F_s)"
   ]
  },
  {
   "cell_type": "code",
   "execution_count": 33,
   "metadata": {},
   "outputs": [],
   "source": [
    "N_pc,A_pc = mp.compute_normals_and_areas(V_pc,F_pc)\n",
    "N_s,A_s = mp.compute_normals_and_areas(V_s,F_s)\n",
    "N_c,A_c = mp.compute_normals_and_areas(V_c,F_c)"
   ]
  },
  {
   "cell_type": "code",
   "execution_count": 17,
   "metadata": {},
   "outputs": [],
   "source": [
    "def center_of_mass(V,F):\n",
    "    return (V[F[:,0]]+V[F[:,1]]+V[F[:,2]])/3"
   ]
  },
  {
   "cell_type": "code",
   "execution_count": 61,
   "metadata": {},
   "outputs": [],
   "source": [
    "def Gaussian_Kernel(sigma):\n",
    "    def f(x,y):\n",
    "        return jnp.exp(-jnp.linalg.norm(x-y)**2/(2*sigma**2))\n",
    "    return f\n",
    "\n",
    "def Gaussian_Kernel_Norm(sigma):\n",
    "    def f(norm):\n",
    "        return jnp.exp(-norm**2/(2*sigma**2))\n",
    "    return f\n",
    "    \n",
    "\n",
    "#Set Kernel\n",
    "\n",
    "def distCurves(V1,F1,V2,F2,sigma):\n",
    "    N1,A1 = mp.compute_normals_and_areas(V1,F1)\n",
    "    N2,A2 = mp.compute_normals_and_areas(V2,F2)\n",
    "    M1 = center_of_mass(V1,F1)\n",
    "    M2 = center_of_mass(V2,F2)\n",
    "    #print(jnp.shape(N1))\n",
    "    D = jnp.vectorize(lambda x,y: x-y)\n",
    "    def term(m1,m2,n1,n2):\n",
    "        Km = jnp.exp(-(D(m1[:,0].reshape(-1,1),m2[:,0].reshape(1,-1))**2+D(m1[:,1].reshape(-1,1),m2[:,1].reshape(1,-1))**2+D(m1[:,2].reshape(-1,1),m2[:,2].reshape(1,-1))**2)*1/(2*sigma**2))\n",
    "        #print(jnp.shape(jnp.dot(n1, n2.T)*Km))\n",
    "        return jnp.sum(jnp.dot(n1, n2.T)*Km)\n",
    "    term1 = term(M1,M1,N1,N1)\n",
    "    term2 = term(M2,M2,N2,N2)\n",
    "    term3 = -2*term(M1,M2,N1,N2)\n",
    "    res = term1 + term2 + term3\n",
    "    return jnp.sqrt(res)\n",
    "\n",
    "def final_distCurves(V1,F1,V2,F2,sigma):\n",
    "    return min(distCurves(V1,F1,V2,F2,sigma), distCurves(V1,F1,-V2,F2,sigma))"
   ]
  },
  {
   "cell_type": "code",
   "execution_count": 64,
   "metadata": {},
   "outputs": [
    {
     "name": "stdout",
     "output_type": "stream",
     "text": [
      "863.11725 863.11725\n"
     ]
    }
   ],
   "source": [
    "def scalar_dist(c,V,F):\n",
    "    return final_distCurves(V,F,V+c,F,2)\n",
    "\n",
    "print(scalar_dist(jnp.float32(1),V_s,F_s),scalar_dist(jnp.float32(-1),V_s,F_s))"
   ]
  },
  {
   "cell_type": "code",
   "execution_count": 66,
   "metadata": {},
   "outputs": [
    {
     "data": {
      "image/png": "[encoded data removed]",
      "text/plain": [
       "<Figure size 432x288 with 2 Axes>"
      ]
     },
     "metadata": {
      "needs_background": "light"
     },
     "output_type": "display_data"
    }
   ],
   "source": [
    "grad(scalar_dist)(jnp.float32(1.01),V_s,F_s)\n",
    "x = onp.linspace(0,2,5)\n",
    "y = [grad(scalar_dist)(jnp.float32(n),V_s,F_s) for n in x]\n",
    "z = [scalar_dist(jnp.float32(n),V_s,F_s) for n in x]\n",
    "plt.figure()\n",
    "plt.subplot(1,2,1)\n",
    "plt.plot(x,z)\n",
    "plt.subplot(1,2,2)\n",
    "plt.plot(x,y)\n",
    "plt.show()"
   ]
  },
  {
   "cell_type": "code",
   "execution_count": 29,
   "metadata": {},
   "outputs": [
    {
     "data": {
      "application/vnd.jupyter.widget-view+json": {
       "model_id": "51e0604de12f493c989d5c2c462efadc",
       "version_major": 2,
       "version_minor": 0
      },
      "text/plain": [
       "Renderer(camera=PerspectiveCamera(children=(DirectionalLight(color='white', intensity=0.6, position=(0.0, 0.0,…"
      ]
     },
     "metadata": {},
     "output_type": "display_data"
    }
   ],
   "source": [
    "plot_mesh((-1)*V_s,F_s)"
   ]
  },
  {
   "cell_type": "code",
   "execution_count": 44,
   "metadata": {},
   "outputs": [
    {
     "name": "stdout",
     "output_type": "stream",
     "text": [
      "-1740337.0 -1740337.1\n"
     ]
    }
   ],
   "source": [
    "print(scalar_dist(jnp.float32(1),V_s,F_s),scalar_dist(jnp.float32(-1),V_s,F_s))"
   ]
  },
  {
   "cell_type": "code",
   "execution_count": null,
   "metadata": {},
   "outputs": [],
   "source": []
  }
 ],
 "metadata": {
  "kernelspec": {
   "display_name": "Python 3",
   "language": "python",
   "name": "python3"
  },
  "language_info": {
   "codemirror_mode": {
    "name": "ipython",
    "version": 3
   },
   "file_extension": ".py",
   "mimetype": "text/x-python",
   "name": "python",
   "nbconvert_exporter": "python",
   "pygments_lexer": "ipython3",
   "version": "3.7.3"
  }
 },
 "nbformat": 4,
 "nbformat_minor": 4
}
