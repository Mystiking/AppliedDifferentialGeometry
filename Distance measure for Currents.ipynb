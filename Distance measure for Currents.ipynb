{
 "cells": [
  {
   "cell_type": "code",
   "execution_count": 1,
   "metadata": {},
   "outputs": [],
   "source": [
    "import jax\n",
    "import numpy as onp\n",
    "import jax.numpy as jnp\n",
    "from jax import grad\n",
    "import mesh_processing as mp\n",
    "import pmm\n",
    "\n",
    "try:\n",
    "    import meshplot\n",
    "    meshplot_available = True\n",
    "except ImportError as e:\n",
    "    meshplot_available = False\n",
    "\n",
    "import matplotlib.pyplot as plt"
   ]
  },
  {
   "cell_type": "code",
   "execution_count": 2,
   "metadata": {},
   "outputs": [
    {
     "name": "stderr",
     "output_type": "stream",
     "text": [
      "/home/dith/.local/lib/python3.8/site-packages/jax/lib/xla_bridge.py:130: UserWarning: No GPU/TPU found, falling back to CPU.\n",
      "  warnings.warn('No GPU/TPU found, falling back to CPU.')\n"
     ]
    }
   ],
   "source": [
    "V_pc,F_pc = mp.objloader('project2/meshes/Spheroids/','partial_cubified.obj')\n",
    "V_s,F_s = mp.objloader('project2/meshes/Spheroids/','Sphere.obj')\n",
    "V_c,F_c = mp.objloader('project2/meshes/Spheroids/','cubified.obj')"
   ]
  },
  {
   "cell_type": "code",
   "execution_count": 3,
   "metadata": {},
   "outputs": [
    {
     "name": "stdout",
     "output_type": "stream",
     "text": [
      "Did not plot - meshplot not available\n",
      "Did not plot - meshplot not available\n",
      "Did not plot - meshplot not available\n"
     ]
    }
   ],
   "source": [
    "def to_numpy_array(X):\n",
    "    Np_array = onp.zeros(X.shape)\n",
    "    for n in range(X.shape[0]):\n",
    "        Np_array[n] = X[n]\n",
    "    return Np_array\n",
    "\n",
    "def plot_mesh(V,F):\n",
    "    if meshplot_available:\n",
    "        V_plot = to_numpy_array(V)\n",
    "        F_plot = to_numpy_array(F)\n",
    "        mplot.plot(V_plot,F_plot)\n",
    "    else:\n",
    "        print('Did not plot - meshplot not available')\n",
    "    \n",
    "plot_mesh(V_pc,F_pc)\n",
    "plot_mesh(V_c,F_c)\n",
    "plot_mesh(V_s,F_s)"
   ]
  },
  {
   "cell_type": "code",
   "execution_count": 4,
   "metadata": {},
   "outputs": [],
   "source": [
    "N_pc,A_pc = mp.compute_normals_and_areas(V_pc,F_pc)\n",
    "N_s,A_s = mp.compute_normals_and_areas(V_s,F_s)\n",
    "N_c,A_c = mp.compute_normals_and_areas(V_c,F_c)"
   ]
  },
  {
   "cell_type": "code",
   "execution_count": 5,
   "metadata": {},
   "outputs": [],
   "source": [
    "def center_of_mass(V,F):\n",
    "    return (V[F[:,0]]+V[F[:,1]]+V[F[:,2]])/3"
   ]
  },
  {
   "cell_type": "code",
   "execution_count": 6,
   "metadata": {},
   "outputs": [],
   "source": [
    "def Gaussian_Kernel(sigma):\n",
    "    def f(x,y):\n",
    "        return jnp.exp(-jnp.linalg.norm(x-y)**2/(2*sigma**2))\n",
    "    return f\n",
    "\n",
    "def Gaussian_Kernel_Norm(sigma):\n",
    "    def f(norm):\n",
    "        return jnp.exp(-norm**2/(2*sigma**2))\n",
    "    return f\n",
    "    \n",
    "\n",
    "#Set Kernel\n",
    "\n",
    "def distCurves(V1,F1,V2,F2,sigma):\n",
    "    N1,A1 = mp.compute_normals_and_areas(V1,F1)\n",
    "    N2,A2 = mp.compute_normals_and_areas(V2,F2)\n",
    "    M1 = center_of_mass(V1,F1)\n",
    "    M2 = center_of_mass(V2,F2)\n",
    "    #print(jnp.shape(N1))\n",
    "    D = jnp.vectorize(lambda x,y: x-y)\n",
    "    def term(m1,m2,n1,n2):\n",
    "        Km = jnp.exp(-(D(m1[:,0].reshape(-1,1),m2[:,0].reshape(1,-1))**2+D(m1[:,1].reshape(-1,1),m2[:,1].reshape(1,-1))**2+D(m1[:,2].reshape(-1,1),m2[:,2].reshape(1,-1))**2)*1/(2*sigma**2))\n",
    "        #print(jnp.shape(jnp.dot(n1, n2.T)*Km))\n",
    "        return jnp.sum(jnp.dot(n1, n2.T)*Km)\n",
    "    term1 = term(M1,M1,N1,N1)\n",
    "    term2 = term(M2,M2,N2,N2)\n",
    "    term3 = -2*term(M1,M2,N1,N2)\n",
    "    res = term1 + term2 + term3\n",
    "    return jnp.sqrt(res)\n",
    "\n",
    "def final_distCurves(V1,F1,V2,F2,sigma):\n",
    "    return distCurves(V1,F1,V2,F2,sigma)\n",
    "    #return min(distCurves(V1,F1,V2,F2,sigma), distCurves(V1,F1,-V2,F2,sigma))"
   ]
  },
  {
   "cell_type": "code",
   "execution_count": 7,
   "metadata": {},
   "outputs": [
    {
     "name": "stdout",
     "output_type": "stream",
     "text": [
      "863.11725 863.11725\n"
     ]
    }
   ],
   "source": [
    "def scalar_dist(c,V,F):\n",
    "    return final_distCurves(V,F,V+c,F,2)\n",
    "\n",
    "print(scalar_dist(jnp.float32(1),V_s,F_s),scalar_dist(jnp.float32(-1),V_s,F_s))"
   ]
  },
  {
   "cell_type": "code",
   "execution_count": 9,
   "metadata": {},
   "outputs": [
    {
     "data": {
      "image/png": "[encoded data removed]",
      "text/plain": [
       "<Figure size 432x288 with 2 Axes>"
      ]
     },
     "metadata": {
      "needs_background": "light"
     },
     "output_type": "display_data"
    }
   ],
   "source": [
    "grad(scalar_dist)(jnp.float32(1.01),V_s,F_s)\n",
    "x = onp.linspace(0,2,5)\n",
    "y = [grad(scalar_dist)(jnp.float32(n),V_s,F_s) for n in x]\n",
    "z = [scalar_dist(jnp.float32(n),V_s,F_s) for n in x]\n",
    "plt.figure()\n",
    "plt.subplot(1,2,1)\n",
    "plt.plot(x,z)\n",
    "plt.subplot(1,2,2)\n",
    "plt.plot(x,y)\n",
    "plt.show()"
   ]
  },
  {
   "cell_type": "code",
   "execution_count": 10,
   "metadata": {},
   "outputs": [
    {
     "name": "stdout",
     "output_type": "stream",
     "text": [
      "Did not plot - meshplot not available\n"
     ]
    }
   ],
   "source": [
    "plot_mesh((-1)*V_s,F_s)"
   ]
  },
  {
   "cell_type": "code",
   "execution_count": 11,
   "metadata": {},
   "outputs": [
    {
     "name": "stdout",
     "output_type": "stream",
     "text": [
      "863.11725 863.11725\n"
     ]
    }
   ],
   "source": [
    "print(scalar_dist(jnp.float32(1),V_s,F_s),scalar_dist(jnp.float32(-1),V_s,F_s))"
   ]
  },
  {
   "cell_type": "code",
   "execution_count": null,
   "metadata": {},
   "outputs": [],
   "source": [
    "x = jnp.linspace(0, 7, 50)\n",
    "y = pmm.translate_x(distCurves, V_s, F_s, x)\n",
    "plt.title('translation')\n",
    "plt.plot(x, y)\n",
    "plt.xlabel('translation amount')\n",
    "plt.ylabel('distance to original')\n",
    "plt.show()"
   ]
  },
  {
   "cell_type": "code",
   "execution_count": null,
   "metadata": {},
   "outputs": [],
   "source": [
    "x = jnp.linspace(0.1, 10, 50)\n",
    "y = pmm.scale_x(distCurves, V_s, F_s, x)\n",
    "plt.title('scaling along x')\n",
    "plt.plot(x, y)\n",
    "plt.xlabel('scaling factor')\n",
    "plt.ylabel('distance to original')\n",
    "plt.show()"
   ]
  },
  {
   "cell_type": "code",
   "execution_count": null,
   "metadata": {},
   "outputs": [],
   "source": [
    "x = jnp.linspace(0, 2*jnp.pi, 50)\n",
    "y = pmm.rotate_x(distCurves, V_s, F_s, x)\n",
    "plt.title('rotation around x')\n",
    "plt.plot(x, y)\n",
    "plt.xlabel('angle')\n",
    "plt.ylabel('distance to original')\n",
    "plt.show()"
   ]
  },
  {
   "cell_type": "code",
   "execution_count": 21,
   "metadata": {},
   "outputs": [
    {
     "name": "stdout",
     "output_type": "stream",
     "text": [
      "(1538, 3)\n",
      "()\n",
      "min dist: 0.07878168\n"
     ]
    }
   ],
   "source": [
    "D = jnp.vectorize(lambda x,y: x - y)\n",
    "print(V_s.shape)\n",
    "\n",
    "dists = D(V_s[:,0].reshape(-1,1), V_s[:,0].reshape(1,-1))**2 + \\\n",
    "        D(V_s[:,1].reshape(-1,1), V_s[:,1].reshape(1,-1))**2 + \\\n",
    "        D(V_s[:,2].reshape(-1,1), V_s[:,2].reshape(1,-1))**2\n",
    "\n",
    "min_dist = jnp.sqrt(jnp.min(dists[jnp.triu(dists, 1)>0]))\n",
    "\n",
    "print(min_dist.shape)\n",
    "print('min dist:', min_dist)"
   ]
  },
  {
   "cell_type": "code",
   "execution_count": 22,
   "metadata": {},
   "outputs": [
    {
     "data": {
      "image/png": "[encoded data removed]",
      "text/plain": [
       "<Figure size 432x288 with 1 Axes>"
      ]
     },
     "metadata": {
      "needs_background": "light"
     },
     "output_type": "display_data"
    }
   ],
   "source": [
    "x = jnp.ones(50)*min_dist/2\n",
    "y = pmm.add_noise(distCurves, V_s, F_s, x)\n",
    "plt.title('adding same noise 50 times')\n",
    "plt.hist(y,bins=25)\n",
    "plt.xlabel('distance to original')\n",
    "plt.ylabel('frequency')\n",
    "plt.show()"
   ]
  },
  {
   "cell_type": "code",
   "execution_count": 23,
   "metadata": {},
   "outputs": [
    {
     "data": {
      "image/png": "[encoded data removed]",
      "text/plain": [
       "<Figure size 432x288 with 1 Axes>"
      ]
     },
     "metadata": {
      "needs_background": "light"
     },
     "output_type": "display_data"
    }
   ],
   "source": [
    "x = jnp.linspace(0,min_dist/2,50)\n",
    "y = pmm.add_noise(distCurves, V_s, F_s, x)\n",
    "plt.title('adding increasing noise')\n",
    "plt.hist(y,bins=25)\n",
    "plt.xlabel('distance to original')\n",
    "plt.ylabel('frequency')\n",
    "plt.show()"
   ]
  },
  {
   "cell_type": "code",
   "execution_count": null,
   "metadata": {},
   "outputs": [],
   "source": []
  }
 ],
 "metadata": {
  "kernelspec": {
   "display_name": "Python 3",
   "language": "python",
   "name": "python3"
  },
  "language_info": {
   "codemirror_mode": {
    "name": "ipython",
    "version": 3
   },
   "file_extension": ".py",
   "mimetype": "text/x-python",
   "name": "python",
   "nbconvert_exporter": "python",
   "pygments_lexer": "ipython3",
   "version": "3.8.5"
  }
 },
 "nbformat": 4,
 "nbformat_minor": 4
}
