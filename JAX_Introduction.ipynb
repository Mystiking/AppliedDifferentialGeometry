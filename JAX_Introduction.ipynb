{
 "cells": [
  {
   "cell_type": "markdown",
   "metadata": {},
   "source": [
    "## Installing JAX  \n",
    "#### CPU Version:  \n",
    "`pip install --upgrade pip`  \n",
    "`pip install --upgrade jax jaxlib  # CPU-only version`  \n",
    "#### GPU Version:  \n",
    "`pip install --upgrade pip`  \n",
    "`pip install --upgrade jax jaxlib==0.1.55+cuda110 -f https://storage.googleapis.com/jax-releases/jax_releases.html`"
   ]
  },
  {
   "cell_type": "code",
   "execution_count": 17,
   "metadata": {},
   "outputs": [],
   "source": [
    "import jax.numpy as jnp\n",
    "from jax import grad, jacfwd, jacrev, random"
   ]
  },
  {
   "cell_type": "code",
   "execution_count": 20,
   "metadata": {},
   "outputs": [],
   "source": [
    "key = random.PRNGKey(42)\n",
    "A = random.normal(key, (4,3))"
   ]
  },
  {
   "cell_type": "markdown",
   "metadata": {},
   "source": [
    "Lets make some objects to work with\n",
    "and some basic operations like *matrix product*, *Hadamard product*, *vec* operation, and *Kronecker product* $\\bigotimes$. "
   ]
  },
  {
   "cell_type": "code",
   "execution_count": 10,
   "metadata": {},
   "outputs": [
    {
     "name": "stdout",
     "output_type": "stream",
     "text": [
      "A:\n",
      "[[ 0.61226517  1.1225882   1.1373315 ]\n",
      " [-0.8127326  -0.8904051   0.12623137]]\n",
      "\n",
      "B:\n",
      "[[ 0.61226517  1.1225882 ]\n",
      " [ 1.1373315  -0.8127326 ]\n",
      " [-0.8904051   0.12623137]]\n"
     ]
    }
   ],
   "source": [
    "A = random.normal(key, (2,3))\n",
    "B = random.normal(key, (3,2))\n",
    "\n",
    "print('A:')\n",
    "print(A)\n",
    "print('\\nB:')\n",
    "print(B)"
   ]
  },
  {
   "cell_type": "code",
   "execution_count": 11,
   "metadata": {},
   "outputs": [
    {
     "name": "stdout",
     "output_type": "stream",
     "text": [
      "\n",
      "AB:\n",
      "[[ 0.6389377  -0.08147542]\n",
      " [-1.6226907  -0.17276834]]\n",
      "\n",
      "BA:\n",
      "[[-0.5374953  -0.31223667  0.8380543 ]\n",
      " [ 1.3568827   2.000416    1.1909306 ]\n",
      " [-0.6477564  -1.1119553  -0.9967514 ]]\n",
      "\n",
      "A' (transpose):\n",
      "[[ 0.61226517 -0.8127326 ]\n",
      " [ 1.1225882  -0.8904051 ]\n",
      " [ 1.1373315   0.12623137]]\n",
      "\n",
      "vec operation (note we have to transpose before calling flatten (row major order)):\n",
      "[ 0.61226517 -0.8127326   1.1225882  -0.8904051   1.1373315   0.12623137]\n"
     ]
    }
   ],
   "source": [
    "# Matrix product\n",
    "print('\\nAB:')\n",
    "print(jnp.dot(A,B))\n",
    "print('\\nBA:')\n",
    "print(jnp.dot(B,A))\n",
    "\n",
    "print(\"\\nA' (transpose):\")\n",
    "print(A.T)\n",
    "\n",
    "print('\\nvec operation (note we have to transpose before calling flatten (row major order)):')\n",
    "vec = lambda A: A.T.flatten()\n",
    "print(vec(A))"
   ]
  },
  {
   "cell_type": "code",
   "execution_count": 12,
   "metadata": {},
   "outputs": [
    {
     "name": "stdout",
     "output_type": "stream",
     "text": [
      "\n",
      "Hadamard product (A*B')\n",
      "[[ 0.37486863  1.2767549  -1.0126858 ]\n",
      " [-0.91236395  0.72366124  0.01593436]]\n",
      "\n",
      "Kronecker product A ⊗ B\n",
      "[[ 0.37486863  0.6873216   0.6873216   1.2602042   0.6963484   1.2767549 ]\n",
      " [ 0.6963484  -0.49760786  1.2767549  -0.91236395  1.293523   -0.9243463 ]\n",
      " [-0.54516405  0.07728707 -0.99955827  0.14170584 -1.0126858   0.14356692]\n",
      " [-0.49760786 -0.91236395 -0.54516405 -0.99955827  0.07728707  0.14170584]\n",
      " [-0.9243463   0.66053426 -1.0126858   0.72366124  0.14356692 -0.10259235]\n",
      " [ 0.72366124 -0.10259235  0.7928213  -0.11239706 -0.11239706  0.01593436]]\n"
     ]
    }
   ],
   "source": [
    "# Hadamard product\n",
    "print(\"\\nHadamard product (A*B')\")\n",
    "print(A*B.T)\n",
    "\n",
    "# Kronecker product\n",
    "print(u'\\nKronecker product A \\u2297 B')\n",
    "print(jnp.kron(A,B))"
   ]
  },
  {
   "cell_type": "markdown",
   "metadata": {},
   "source": [
    "Calculating $Df(x)$ for $f: \\mathbb{R} \\to \\mathbb{R}$"
   ]
  },
  {
   "cell_type": "code",
   "execution_count": 13,
   "metadata": {},
   "outputs": [
    {
     "name": "stdout",
     "output_type": "stream",
     "text": [
      "f(3) = 9.0\n",
      "Df(3) = 6.0\n"
     ]
    }
   ],
   "source": [
    "f = lambda x: x**2\n",
    "\n",
    "x = jnp.float32(3.0)\n",
    "\n",
    "print(f'f(3) = {f(x)}')\n",
    "print(f'Df(3) = {grad(f)(x)}')"
   ]
  },
  {
   "cell_type": "markdown",
   "metadata": {},
   "source": [
    "Calculating $Df(X)$ for $f: \\mathbb{R}^n \\to \\mathbb{R}$"
   ]
  },
  {
   "cell_type": "code",
   "execution_count": 14,
   "metadata": {},
   "outputs": [
    {
     "name": "stdout",
     "output_type": "stream",
     "text": [
      "f(X) = 58.0\n",
      "Df(X) = \n",
      "[[ 0.  6. 14.]\n",
      " [ 0.  6. 14.]]\n"
     ]
    }
   ],
   "source": [
    "def f(X):\n",
    "    col_sum = jnp.sum(X, axis=0)\n",
    "    squared = col_sum**2\n",
    "    return jnp.sum(squared)\n",
    "\n",
    "X = jnp.array([[2,3,1], [-2,0,6]], dtype=jnp.float32)\n",
    "\n",
    "print(f'f(X) = {f(X)}')\n",
    "print(f'Df(X) = \\n{grad(f)(X)}')"
   ]
  },
  {
   "cell_type": "markdown",
   "metadata": {},
   "source": [
    "Notation for taking derivative with respect to different variables.  \n",
    "For:  \n",
    "$U: \\mathbb{R}^{10} \\to \\mathbb{R}^3$  \n",
    "$W: \\mathbb{R}^{15} \\to \\mathbb{R}^{10}$  \n",
    "$V: \\mathbb{R}^4 \\to \\mathbb{R}^{15}$  \n",
    "let $A = UWV$ making $A: \\mathbb{R}^4 \\to \\mathbb{R}^3$  \n",
    "and let $f: \\mathbb{R}^4 \\to \\mathbb{R}$ with $f(A) = \\sum_{i,j} a_{ij}$ .  \n",
    "We can calculate\n",
    "$$\n",
    "\\frac{\\partial f}{\\partial U}, \\frac{\\partial f}{\\partial W}, \\frac{\\partial f}{\\partial V}\n",
    "$$\n",
    "by:"
   ]
  },
  {
   "cell_type": "code",
   "execution_count": 15,
   "metadata": {},
   "outputs": [
    {
     "name": "stdout",
     "output_type": "stream",
     "text": [
      "shape of dU: (3, 10)\n",
      "shape of dW: (10, 15)\n",
      "shape of dV: (15, 4)\n",
      "shape of dU: (3, 10)\n",
      "shape of dW: (10, 15)\n",
      "shape of dV: (15, 4)\n"
     ]
    }
   ],
   "source": [
    "U = random.normal(key, (3, 10), dtype=jnp.float32)\n",
    "W = random.normal(key, (10, 15), dtype=jnp.float32)\n",
    "V = random.normal(key, (15, 4), dtype=jnp.float32)\n",
    "\n",
    "A = lambda a, b, c: jnp.dot(jnp.dot(a, b), c)\n",
    "f = lambda a, b, c: jnp.sum(A(a,b,c))\n",
    "\n",
    "dU = grad(f)(U,W,V)\n",
    "print('shape of dU:', dU.shape)\n",
    "dW = grad(f, argnums=1)(U,W,V)\n",
    "print('shape of dW:', dW.shape)\n",
    "dV = grad(f, argnums=2)(U,W,V)\n",
    "print('shape of dV:', dV.shape)\n",
    "dU, dW, dV = grad(f, argnums=[0,1,2])(U,W,V)\n",
    "print('shape of dU:', dU.shape)\n",
    "print('shape of dW:', dW.shape)\n",
    "print('shape of dV:', dV.shape)"
   ]
  },
  {
   "cell_type": "markdown",
   "metadata": {},
   "source": [
    "Failing to calculate $DF(x)$ for $F: \\mathbb{R} \\to \\mathbb{R}^n$"
   ]
  },
  {
   "cell_type": "code",
   "execution_count": 16,
   "metadata": {},
   "outputs": [
    {
     "name": "stdout",
     "output_type": "stream",
     "text": [
      "F(x) = [x^0, x^1, x^2, x^3, x^4, x^5]\n",
      "DF(x) = [0, 1, 2x, 3x^2, 4x^3, 5x^4]\n",
      "F(3) =\n",
      " [  1.   3.   9.  27.  81. 243.]\n",
      "\n",
      "... Oh noes ...\n",
      "Exception raised: Gradient only defined for scalar-output functions. Output had shape: (6,).\n"
     ]
    }
   ],
   "source": [
    "print('F(x) = [x^0, x^1, x^2, x^3, x^4, x^5]')\n",
    "print('DF(x) = [0, 1, 2x, 3x^2, 4x^3, 5x^4]')\n",
    "\n",
    "def F(x):\n",
    "    powers = jnp.arange(6)\n",
    "    return x**powers\n",
    "\n",
    "x = jnp.float32(3.0)\n",
    "\n",
    "print(f'F(3) =\\n {F(x)}')\n",
    "\n",
    "try:\n",
    "    print(f'DF(x) = \\n{grad(F)(x)}')\n",
    "except Exception as e:\n",
    "    print('\\n... Oh noes ...')\n",
    "    print('Exception raised:', e)"
   ]
  },
  {
   "cell_type": "markdown",
   "metadata": {},
   "source": [
    "Calculating $DF(x)$ for $F: \\mathbb{R} \\to \\mathbb{R}^n$ using the Jacobian"
   ]
  },
  {
   "cell_type": "code",
   "execution_count": 21,
   "metadata": {},
   "outputs": [
    {
     "name": "stdout",
     "output_type": "stream",
     "text": [
      "F(x) = [x^0, x^1, x^2, x^3, x^4, x^5]\n",
      "DF(x) = [0, 1, 2x, 3x^2, 4x^3, 5x^4]\n",
      "F(3) =\n",
      " [  1.   3.   9.  27.  81. 243.]\n",
      "DF(3) = \n",
      "[  0.   1.   6.  27. 108. 405.]\n",
      "DDF(3) = \n",
      "[  0.   0.   2.  18. 108. 540.]\n",
      "D^3F(3) = \n",
      "[  0.   0.   0.   6.  72. 540.]\n",
      "D^4F(3) = \n",
      "[  0.   0.   0.   0.  24. 360.]\n",
      "D^4F(3) = \n",
      "[  0.   0.   0.   0.  24. 360.]\n"
     ]
    }
   ],
   "source": [
    "print('F(x) = [x^0, x^1, x^2, x^3, x^4, x^5]')\n",
    "print('DF(x) = [0, 1, 2x, 3x^2, 4x^3, 5x^4]')\n",
    "\n",
    "def F(x):\n",
    "    powers = jnp.arange(6)\n",
    "    return x**powers\n",
    "\n",
    "x = jnp.float32(3.0)\n",
    "\n",
    "print(f'F(3) =\\n {F(x)}')\n",
    "\n",
    "print(f'DF(3) = \\n{jacfwd(F)(x)}')\n",
    "\n",
    "print(f'DDF(3) = \\n{jacfwd(jacfwd(F))(x)}')\n",
    "\n",
    "print(f'D^3F(3) = \\n{jacfwd(jacfwd(jacfwd(F)))(x)}')\n",
    "\n",
    "print(f'D^4F(3) = \\n{jacfwd(jacfwd(jacfwd(jacfwd(F))))(x)}')\n",
    "\n",
    "def D(f, dtimes=[0]):\n",
    "    for i, n in enumerate(dtimes):\n",
    "        while n > 0:\n",
    "            f = jacfwd(f, argnums=i)\n",
    "            n -= 1\n",
    "    return f\n",
    "\n",
    "print(f'D^4F(3) = \\n{D(F,[4])(x)}')"
   ]
  },
  {
   "cell_type": "markdown",
   "metadata": {},
   "source": [
    "Calculating $DF(X)$ for $F: \\mathbb{R}^n \\to \\mathbb{R}^m$"
   ]
  },
  {
   "cell_type": "code",
   "execution_count": null,
   "metadata": {},
   "outputs": [],
   "source": [
    "print('function:')\n",
    "print('[x_4sin(x_1) + x_2sin(x_3),')\n",
    "print(' x_3sin(x_2) + x_1sin(x_4)]')\n",
    "print()\n",
    "\n",
    "def f(x):\n",
    "    y = x[::-1]*jnp.sin(x)\n",
    "    return y[:2] + y[2:]\n",
    "\n",
    "v = random.normal(key, (4, ), dtype=jnp.float32)\n",
    "\n",
    "print('Forward Jacobian ( use when for mxn matrix, when m >= n ):')\n",
    "print(jacfwd(f)(v)); print()\n",
    "\n",
    "print('Reverse Jacobian ( use when for mxn matrix, when m < n ):')\n",
    "print(jacrev(f)(v)); print()\n",
    "\n",
    "print('Norm difference:', jnp.linalg.norm(jacfwd(f)(v) - jacrev(f)(v))); print()\n",
    "\n",
    "def hessian(f):\n",
    "    return jacfwd(jacrev(f))\n",
    "\n",
    "print('Hessian:')\n",
    "print(hessian(f)(v)); print()"
   ]
  },
  {
   "cell_type": "markdown",
   "metadata": {},
   "source": [
    "Recreating the result of Magnus and Neudecker  \n",
    "  \n",
    "For constant matrices $A, B$ and $F(X) = AXB$, Calculate $DF(X)$ and verify $DF(X) = B' \\bigotimes A$."
   ]
  },
  {
   "cell_type": "code",
   "execution_count": 27,
   "metadata": {},
   "outputs": [
    {
     "name": "stdout",
     "output_type": "stream",
     "text": [
      "shapes: (2, 2, 3, 4) (2, 24)\n",
      "size: 48 48\n",
      "shapes: (4, 12) (2, 24)\n",
      "size: 48 48\n"
     ]
    }
   ],
   "source": [
    "#A = random.normal(key, (3, 10), dtype=jnp.float32)\n",
    "#X = random.normal(key, (10, 15), dtype=jnp.float32)\n",
    "#B = random.normal(key, (15, 4), dtype=jnp.float32)\n",
    "\n",
    "A = random.normal(key, (2, 3), dtype=jnp.float32)\n",
    "X = random.normal(key, (3, 4), dtype=jnp.float32)\n",
    "B = random.normal(key, (4, 2), dtype=jnp.float32)\n",
    "\n",
    "F1 = lambda X, A, B: jnp.dot(jnp.dot(A, X), B)\n",
    "\n",
    "R1 = jacfwd(F1)(X, A, B)\n",
    "R2 = jnp.kron(vec(B), A)\n",
    "\n",
    "print('shapes:', R1.shape, R2.shape)\n",
    "print('size:', R1.size, R2.size)\n",
    "\n",
    "Xshape = X.shape\n",
    "\n",
    "vecinv = lambda x, shape: x.reshape(shape[::-1]).T\n",
    "\n",
    "F2 = lambda X, A, B: vec(jnp.dot(jnp.dot(A, vecinv(X, Xshape)), B))\n",
    "\n",
    "R1 = jacfwd(F2)(vec(X), A, B)\n",
    "R2 = jnp.kron(vec(B.T), A)\n",
    "\n",
    "print('shapes:', R1.shape, R2.shape)\n",
    "print('size:', R1.size, R2.size)"
   ]
  },
  {
   "cell_type": "code",
   "execution_count": null,
   "metadata": {},
   "outputs": [],
   "source": []
  },
  {
   "cell_type": "code",
   "execution_count": null,
   "metadata": {},
   "outputs": [],
   "source": []
  },
  {
   "cell_type": "code",
   "execution_count": null,
   "metadata": {},
   "outputs": [],
   "source": []
  },
  {
   "cell_type": "code",
   "execution_count": null,
   "metadata": {},
   "outputs": [],
   "source": []
  },
  {
   "cell_type": "code",
   "execution_count": null,
   "metadata": {},
   "outputs": [],
   "source": []
  },
  {
   "cell_type": "code",
   "execution_count": null,
   "metadata": {},
   "outputs": [],
   "source": []
  },
  {
   "cell_type": "code",
   "execution_count": null,
   "metadata": {},
   "outputs": [],
   "source": []
  },
  {
   "cell_type": "code",
   "execution_count": null,
   "metadata": {},
   "outputs": [],
   "source": []
  },
  {
   "cell_type": "code",
   "execution_count": null,
   "metadata": {},
   "outputs": [],
   "source": []
  },
  {
   "cell_type": "code",
   "execution_count": null,
   "metadata": {},
   "outputs": [],
   "source": [
    "import matplotlib.pyplot as plt\n",
    "def getA(x,y,z):\n",
    "    py2 = x**2 + y**2\n",
    "    py3 = x**2 + y**2 + z**2\n",
    "    sq2 = jnp.sqrt(py2)\n",
    "    sq3 = jnp.sqrt(py3)\n",
    "    sq23 = jnp.sqrt(py2*py3)\n",
    "    A = jnp.array([[x/sq3,   x*z/sq23, -y/sq2],\n",
    "                   [y/sq3,   y*z/sq23,  x/sq2],\n",
    "                   [z/sq3, -sq2/sq3,      0]])\n",
    "    return A\n",
    "\n",
    "fig = plt.figure(figsize=(10,10))\n",
    "ax = fig.add_subplot(111, projection='3d')\n",
    "\n",
    "'''for x in jnp.linspace(-10,10,5):\n",
    "    for y in jnp.linspace(-10,10,5):\n",
    "        for z in jnp.linspace(-10,10,5):\n",
    "            A = getA(x,y,z)\n",
    "\n",
    "            e = jnp.array([[1,0,0],[0,1,0],[0,0,1]])\n",
    "            v = jnp.dot(A, e)\n",
    "            for i in range(3):\n",
    "                #ax.plot([x, x+v[0,i]],[y, y+v[1,i]],[z, z+v[2,i]], color='black')\n",
    "                ax.plot([x, x+v[0,i]],[y, y+v[1,i]],[z, z+v[2,i]], color='black')'''\n",
    "\n",
    "#plt.show()\n",
    "r=10\n",
    "for theta in jnp.linspace(0, jnp.pi, 10)[1:-1]:\n",
    "    for phi in jnp.linspace(0, 2*jnp.pi, 10):\n",
    "        x = 10*jnp.sin(theta)*jnp.cos(phi)\n",
    "        y = 10*jnp.sin(theta)*jnp.sin(phi)\n",
    "        z = 10*jnp.cos(theta)\n",
    "        \n",
    "        A = getA(x,y,z)\n",
    "\n",
    "        e = jnp.array([[1,0,0],[0,1,0],[0,0,1]])\n",
    "        v = jnp.dot(A, e)\n",
    "        for i in range(3):\n",
    "            #ax.plot([x, x+v[0,i]],[y, y+v[1,i]],[z, z+v[2,i]], color='black')\n",
    "            ax.plot([x, x+v[0,i]],[y, y+v[1,i]],[z, z+v[2,i]], color='black')\n",
    "\n",
    "plt.show()"
   ]
  },
  {
   "cell_type": "code",
   "execution_count": null,
   "metadata": {},
   "outputs": [],
   "source": []
  },
  {
   "cell_type": "code",
   "execution_count": null,
   "metadata": {},
   "outputs": [],
   "source": []
  }
 ],
 "metadata": {
  "kernelspec": {
   "display_name": "Python 3",
   "language": "python",
   "name": "python3"
  },
  "language_info": {
   "codemirror_mode": {
    "name": "ipython",
    "version": 3
   },
   "file_extension": ".py",
   "mimetype": "text/x-python",
   "name": "python",
   "nbconvert_exporter": "python",
   "pygments_lexer": "ipython3",
   "version": "3.8.5"
  }
 },
 "nbformat": 4,
 "nbformat_minor": 4
}
